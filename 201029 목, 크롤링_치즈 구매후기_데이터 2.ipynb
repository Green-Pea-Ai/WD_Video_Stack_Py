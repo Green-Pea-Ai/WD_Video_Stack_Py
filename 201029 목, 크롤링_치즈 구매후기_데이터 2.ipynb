{
 "cells": [
  {
   "cell_type": "code",
   "execution_count": 8,
   "metadata": {},
   "outputs": [
    {
     "name": "stdout",
     "output_type": "stream",
     "text": [
      "Requirement already satisfied: selenium in /home/bitai/anaconda3/lib/python3.7/site-packages (3.141.0)\n",
      "Requirement already satisfied: urllib3 in /home/bitai/anaconda3/lib/python3.7/site-packages (from selenium) (1.25.8)\n",
      "Note: you may need to restart the kernel to use updated packages.\n"
     ]
    }
   ],
   "source": [
    "pip install selenium"
   ]
  },
  {
   "cell_type": "code",
   "execution_count": 2,
   "metadata": {
    "scrolled": true
   },
   "outputs": [
    {
     "name": "stdout",
     "output_type": "stream",
     "text": [
      "Requirement already satisfied: beautifulsoup4 in /home/bitai/anaconda3/lib/python3.7/site-packages (4.8.2)\n",
      "Requirement already satisfied: soupsieve>=1.2 in /home/bitai/anaconda3/lib/python3.7/site-packages (from beautifulsoup4) (1.9.5)\n",
      "Note: you may need to restart the kernel to use updated packages.\n"
     ]
    }
   ],
   "source": [
    "pip install beautifulsoup4"
   ]
  },
  {
   "cell_type": "code",
   "execution_count": 2,
   "metadata": {},
   "outputs": [
    {
     "name": "stdout",
     "output_type": "stream",
     "text": [
      "hello wandoo world!\n"
     ]
    }
   ],
   "source": [
    "a = \"hello wandoo world!\"\n",
    "print(a)"
   ]
  },
  {
   "cell_type": "code",
   "execution_count": 1,
   "metadata": {
    "scrolled": true
   },
   "outputs": [
    {
     "data": {
      "text/plain": [
       "'<html lang=\"ko\"><head><script type=\"text/javascript\" src=\"https://bam.nr-data.net/1/NRJS-5dec146893a58b07e31?a=602251426&amp;v=1184.ab39b52&amp;to=MlZUZhdUXkoCAkBQDQscY0AMGkNRDBEbXg0KV0UdAlpfXRA%2BRlwUDFZBbQlcQ01NEVxJ&amp;rst=892&amp;ck=1&amp;ref=https://www.kurly.com/shop/goods/goods_review_list.php&amp;ap=84&amp;be=573&amp;fe=754&amp;dc=711&amp;perf=%7B%22timing%22:%7B%22of%22:1603965352408,%22n%22:0,%22f%22:0,%22dn%22:0,%22dne%22:0,%22c%22:0,%22ce%22:0,%22rq%22:406,%22rp%22:518,%22rpe%22:545,%22dl%22:536,%22di%22:710,%22ds%22:710,%22de%22:713,%22dc%22:754,%22l%22:754,%22le%22:758%7D,%22navigation%22:%7B%7D%7D&amp;fp=760&amp;fcp=760&amp;at=HhFXEF9OTUQ%3D&amp;jsonp=NREUM.setToken\"></script><script src=\"https://js-agent.newrelic.com/nr-1184.min.js\"></script><script type=\"text/javascript\">(window.NREUM||(NREUM={})).loader_config={licenseKey:\"NRJS-5dec146893a58b07e31\",applicationID:\"602251426\"};window.NREUM||(NREUM={}),__nr_require=function(e,t,n){function r(n){if(!t[n]){var i=t[n]={exports:{}};e[n][0].call(i.exports,function(t){var i=e[n][1][t];return r(i||t)},i,i.exports)}return t[n].exports}if(\"function\"==typeof __nr_require)return __nr_require;for(var i=0;i<n.length;i++)r(n[i]);return r}({1:[function(e,t,n){function r(){}function i(e,t,n){return function(){return o(e,[u.now()].concat(c(arguments)),t?null:this,n),t?void 0:this}}var o=e(\"handle\"),a=e(6),c=e(7),f=e(\"ee\").get(\"tracer\"),u=e(\"loader\"),s=NREUM;\"undefined\"==typeof window.newrelic&&(newrelic=s);var d=[\"setPageViewName\",\"setCustomAttribute\",\"setErrorHandler\",\"finished\",\"addToTrace\",\"inlineHit\",\"addRelease\"],p=\"api-\",l=p+\"ixn-\";a(d,function(e,t){s[t]=i(p+t,!0,\"api\")}),s.addPageAction=i(p+\"addPageAction\",!0),s.setCurrentRouteName=i(p+\"routeName\",!0),t.exports=newrelic,s.interaction=function(){return(new r).get()};var m=r.prototype={createTracer:function(e,t){var n={},r=this,i=\"function\"==typeof t;return o(l+\"tracer\",[u.now(),e,n],r),function(){if(f.emit((i?\"\":\"no-\")+\"fn-start\",[u.now(),r,i],n),i)try{return t.apply(this,arguments)}catch(e){throw f.emit(\"fn-err\",[arguments,this,e],n),e}finally{f.emit(\"fn-end\",[u.now()],n)}}}};a(\"actionText,setName,setAttribute,save,ignore,onEnd,getContext,end,get\".split(\",\"),function(e,t){m[t]=i(l+t)}),newrelic.noticeError=function(e,t){\"string\"==typeof e&&(e=new Error(e)),o(\"err\",[e,u.now(),!1,t])}},{}],2:[function(e,t,n){function r(){return c.exists&&performance.now?Math.round(performance.now()):(o=Math.max((new Date).getTime(),o))-a}function i(){return o}var o=(new Date).getTime(),a=o,c=e(8);t.exports=r,t.exports.offset=a,t.exports.getLastTimestamp=i},{}],3:[function(e,t,n){function r(e,t){var n=e.getEntries();n.forEach(function(e){\"first-paint\"===e.name?d(\"timing\",[\"fp\",Math.floor(e.startTime)]):\"first-contentful-paint\"===e.name&&d(\"timing\",[\"fcp\",Math.floor(e.startTime)])})}function i(e,t){var n=e.getEntries();n.length>0&&d(\"lcp\",[n[n.length-1]])}function o(e){e.getEntries().forEach(function(e){e.hadRecentInput||d(\"cls\",[e])})}function a(e){if(e instanceof m&&!g){var t=Math.round(e.timeStamp),n={type:e.type};t<=p.now()?n.fid=p.now()-t:t>p.offset&&t<=Date.now()?(t-=p.offset,n.fid=p.now()-t):t=p.now(),g=!0,d(\"timing\",[\"fi\",t,n])}}function c(e){d(\"pageHide\",[p.now(),e])}if(!(\"init\"in NREUM&&\"page_view_timing\"in NREUM.init&&\"enabled\"in NREUM.init.page_view_timing&&NREUM.init.page_view_timing.enabled===!1)){var f,u,s,d=e(\"handle\"),p=e(\"loader\"),l=e(5),m=NREUM.o.EV;if(\"PerformanceObserver\"in window&&\"function\"==typeof window.PerformanceObserver){f=new PerformanceObserver(r);try{f.observe({entryTypes:[\"paint\"]})}catch(v){}u=new PerformanceObserver(i);try{u.observe({entryTypes:[\"largest-contentful-paint\"]})}catch(v){}s=new PerformanceObserver(o);try{s.observe({type:\"layout-shift\",buffered:!0})}catch(v){}}if(\"addEventListener\"in document){var g=!1,y=[\"click\",\"keydown\",\"mousedown\",\"pointerdown\",\"touchstart\"];y.forEach(function(e){document.addEventListener(e,a,!1)})}l(c)}},{}],4:[function(e,t,n){function r(e,t){if(!i)return!1;if(e!==i)return!1;if(!t)return!0;if(!o)return!1;for(var n=o.split(\".\"),r=t.split(\".\"),a=0;a<r.length;a++)if(r[a]!==n[a])return!1;return!0}var i=null,o=null,a=/Version\\\\/(\\\\S+)\\\\s+Safari/;if(navigator.userAgent){var c=navigator.userAgent,f=c.match(a);f&&c.indexOf(\"Chrome\")===-1&&c.indexOf(\"Chromium\")===-1&&(i=\"Safari\",o=f[1])}t.exports={agent:i,version:o,match:r}},{}],5:[function(e,t,n){function r(e){function t(){e(a&&document[a]?document[a]:document[i]?\"hidden\":\"visible\")}\"addEventListener\"in document&&o&&document.addEventListener(o,t,!1)}t.exports=r;var i,o,a;\"undefined\"!=typeof document.hidden?(i=\"hidden\",o=\"visibilitychange\",a=\"visibilityState\"):\"undefined\"!=typeof document.msHidden?(i=\"msHidden\",o=\"msvisibilitychange\"):\"undefined\"!=typeof document.webkitHidden&&(i=\"webkitHidden\",o=\"webkitvisibilitychange\",a=\"webkitVisibilityState\")},{}],6:[function(e,t,n){function r(e,t){var n=[],r=\"\",o=0;for(r in e)i.call(e,r)&&(n[o]=t(r,e[r]),o+=1);return n}var i=Object.prototype.hasOwnProperty;t.exports=r},{}],7:[function(e,t,n){function r(e,t,n){t||(t=0),\"undefined\"==typeof n&&(n=e?e.length:0);for(var r=-1,i=n-t||0,o=Array(i<0?0:i);++r<i;)o[r]=e[t+r];return o}t.exports=r},{}],8:[function(e,t,n){t.exports={exists:\"undefined\"!=typeof window.performance&&window.performance.timing&&\"undefined\"!=typeof window.performance.timing.navigationStart}},{}],ee:[function(e,t,n){function r(){}function i(e){function t(e){return e&&e instanceof r?e:e?f(e,c,o):o()}function n(n,r,i,o){if(!p.aborted||o){e&&e(n,r,i);for(var a=t(i),c=v(n),f=c.length,u=0;u<f;u++)c[u].apply(a,r);var d=s[w[n]];return d&&d.push([b,n,r,a]),a}}function l(e,t){h[e]=v(e).concat(t)}function m(e,t){var n=h[e];if(n)for(var r=0;r<n.length;r++)n[r]===t&&n.splice(r,1)}function v(e){return h[e]||[]}function g(e){return d[e]=d[e]||i(n)}function y(e,t){u(e,function(e,n){t=t||\"feature\",w[n]=t,t in s||(s[t]=[])})}var h={},w={},b={on:l,addEventListener:l,removeEventListener:m,emit:n,get:g,listeners:v,context:t,buffer:y,abort:a,aborted:!1};return b}function o(){return new r}function a(){(s.api||s.feature)&&(p.aborted=!0,s=p.backlog={})}var c=\"nr@context\",f=e(\"gos\"),u=e(6),s={},d={},p=t.exports=i();p.backlog=s},{}],gos:[function(e,t,n){function r(e,t,n){if(i.call(e,t))return e[t];var r=n();if(Object.defineProperty&&Object.keys)try{return Object.defineProperty(e,t,{value:r,writable:!0,enumerable:!1}),r}catch(o){}return e[t]=r,r}var i=Object.prototype.hasOwnProperty;t.exports=r},{}],handle:[function(e,t,n){function r(e,t,n,r){i.buffer([e],r),i.emit(e,t,n)}var i=e(\"ee\").get(\"handle\");t.exports=r,r.ee=i},{}],id:[function(e,t,n){function r(e){var t=typeof e;return!e||\"object\"!==t&&\"function\"!==t?-1:e===window?0:a(e,o,function(){return i++})}var i=1,o=\"nr@id\",a=e(\"gos\");t.exports=r},{}],loader:[function(e,t,n){function r(){if(!E++){var e=b.info=NREUM.info,t=p.getElementsByTagName(\"script\")[0];if(setTimeout(u.abort,3e4),!(e&&e.licenseKey&&e.applicationID&&t))return u.abort();f(h,function(t,n){e[t]||(e[t]=n)});var n=a();c(\"mark\",[\"onload\",n+b.offset],null,\"api\"),c(\"timing\",[\"load\",n]);var r=p.createElement(\"script\");r.src=\"https://\"+e.agent,t.parentNode.insertBefore(r,t)}}function i(){\"complete\"===p.readyState&&o()}function o(){c(\"mark\",[\"domContent\",a()+b.offset],null,\"api\")}var a=e(2),c=e(\"handle\"),f=e(6),u=e(\"ee\"),s=e(4),d=window,p=d.document,l=\"addEventListener\",m=\"attachEvent\",v=d.XMLHttpRequest,g=v&&v.prototype;NREUM.o={ST:setTimeout,SI:d.setImmediate,CT:clearTimeout,XHR:v,REQ:d.Request,EV:d.Event,PR:d.Promise,MO:d.MutationObserver};var y=\"\"+location,h={beacon:\"bam.nr-data.net\",errorBeacon:\"bam.nr-data.net\",agent:\"js-agent.newrelic.com/nr-1184.min.js\"},w=v&&g&&g[l]&&!/CriOS/.test(navigator.userAgent),b=t.exports={offset:a.getLastTimestamp(),now:a,origin:y,features:{},xhrWrappable:w,userAgent:s};e(1),e(3),p[l]?(p[l](\"DOMContentLoaded\",o,!1),d[l](\"load\",r,!1)):(p[m](\"onreadystatechange\",i),d[m](\"onload\",r)),c(\"mark\",[\"firstbyte\",a.getLastTimestamp()],null,\"api\");var E=0},{}],\"wrap-function\":[function(e,t,n){function r(e){return!(e&&e instanceof Function&&e.apply&&!e[a])}var i=e(\"ee\"),o=e(7),a=\"nr@original\",c=Object.prototype.hasOwnProperty,f=!1;t.exports=function(e,t){function n(e,t,n,i){function nrWrapper(){var r,a,c,f;try{a=this,r=o(arguments),c=\"function\"==typeof n?n(r,a):n||{}}catch(u){p([u,\"\",[r,a,i],c])}s(t+\"start\",[r,a,i],c);try{return f=e.apply(a,r)}catch(d){throw s(t+\"err\",[r,a,d],c),d}finally{s(t+\"end\",[r,a,f],c)}}return r(e)?e:(t||(t=\"\"),nrWrapper[a]=e,d(e,nrWrapper),nrWrapper)}function u(e,t,i,o){i||(i=\"\");var a,c,f,u=\"-\"===i.charAt(0);for(f=0;f<t.length;f++)c=t[f],a=e[c],r(a)||(e[c]=n(a,u?c+i:i,o,c))}function s(n,r,i){if(!f||t){var o=f;f=!0;try{e.emit(n,r,i,t)}catch(a){p([a,n,r,i])}f=o}}function d(e,t){if(Object.defineProperty&&Object.keys)try{var n=Object.keys(e);return n.forEach(function(n){Object.defineProperty(t,n,{get:function(){return e[n]},set:function(t){return e[n]=t,t}})}),t}catch(r){p([r])}for(var i in e)c.call(e,i)&&(t[i]=e[i]);return t}function p(t){try{e.emit(\"internal-error\",t)}catch(n){}}return e||(e=i),n.inPlace=u,n.flag=a,n}},{}]},{},[\"loader\"]);</script>\\n<link rel=\"styleSheet\" href=\"/shop/data/skin/designgj/normalize.css?ver=CSS_VERSION\">\\n<link rel=\"styleSheet\" href=\"/shop/data/skin/designgj/common.css?ver=CSS_VERSION\">\\n<link rel=\"styleSheet\" href=\"/shop/data/skin/designgj/section1.css?ver=CSS_VERSION\">\\n<script>\\n        var GD_ISMEMBER = !!Number(\\'0\\');\\n    </script>\\n<script type=\"text/javascript\" src=\"/shop/lib/js/jquery-1.10.2.min.js\"></script>\\n<script src=\"/shop/data/skin/designgj/common.js?ver=CSS_VERSION\"></script>\\n<script type=\"text/javascript\" src=\"//wcs.naver.net/wcslog.js\"></script>\\n<script type=\"text/javascript\" src=\"/shop/lib/js/naverCommonInflowScript.js?Path=goods/goods_review_list.php&amp;Referer=&amp;AccountID=s_4f41b5625072&amp;Inflow=\" id=\"naver-common-inflow-script\"></script>\\n<script type=\"text/javascript\">\\n        // 회원전용 & 로그인전\\n        function popup_register(mode,goodsno,sno){\\n            if ( mode == \\'del_review\\' ){\\n                var win = window.open(\"goods_review_del.php?mode=\" + mode + \"&sno=\" + sno,\"review_register\",\"width=400,height=200\");\\n            }else if( mode == \\'mod_review\\'){\\n                parent.location.href = (\\'/shop/goods/goods_review_register.php?mode=\\' + mode + \\'&goodsno=\\' + goodsno + \\'&ordno=\\' + undefined + \\'&sno=\\' + sno);\\n            }else if(mode == \\'reply_review\\'){\\n                parent.location.href = (\\'/shop/goods/goods_review_register.php?mode=\\' + mode + \\'&goodsno=\\'+ goodsno + \\'&sno=\\' + sno);\\n            }else{\\n                parent.location.href = (\"/shop/mypage/mypage_review.php?write_goodsno=\"+ goodsno);\\n            }\\n            win.focus();\\n        }\\n\\n        var preContent;\\n        var IntervarId;\\n\\n        function view_content(obj, e, type)\\n        {\\n            \\n            if(type === \\'notice\\'){\\n                $(\\'.review_view\\').addClass(\\'review_notice\\');    \\n            }else{\\n                $(\\'.review_view\\').removeClass(\\'review_notice\\');\\n\\n                // KM-1483 Amplitude 연동\\n                trackerReview.reviewAction($(obj).find(\\'tr\\'));\\n            }\\n            var tagName = e.srcElement ? e.srcElement.tagName : e.target.tagName;\\n\\n            if ( document.getElementById && ( tagName == \\'A\\' || tagName == \\'IMG\\' ) ) return;\\n            else if ( !document.getElementById && ( tagName == \\'A\\' || tagName == \\'IMG\\' ) ) return;\\n\\n            var div = obj.parentNode;\\n\\n            for (var i=1, m=div.childNodes.length;i<m;i++) {\\n                if (div.childNodes[i].nodeType != 1) continue;\\t// text node.\\n                else if (obj == div.childNodes[ i ]) continue;\\n\\n                obj = div.childNodes[ i ];\\n                break;\\n            }\\n\\n            if($(obj).find(\\'.review_photo\\').html() === \\'\\'){\\n                $.ajax({\\n                    url: \"/shop/goods/ajax_review_img.php\",\\n                    type: \"POST\",\\n                    data: {sno: $(obj).data(\"sno\")},\\n                    dataType: \"html\",\\n                    success: function (result) {\\n                        if(result){\\n                            result += \\'<br>\\';\\n                            $(obj).find(\\'.review_photo\\').append(result);\\n                            resizeFrame();\\n                        }\\n                    }\\n                }).done(function() {resizeFrame();});    \\n            }\\n\\n            if (preContent && obj!=preContent){\\n                obj.style.display = \"block\";\\n                preContent.style.display = \"none\";\\n            }else if (preContent && obj==preContent){\\n                preContent.style.display = ( preContent.style.display == \"none\" ? \"block\" : \"none\" );\\n            }else if (preContent == null ){\\n                obj.style.display = \"block\";\\n            }\\n\\n            if(obj.style.display == \\'block\\'){\\n                var sno = $(obj).data(\\'sno\\');\\n                $(obj).parent().addClass(\\'on\\').siblings().removeClass(\\'on\\');\\n                review_addhit(sno);\\n            }\\n\\n            preContent = obj;\\n\\n            // 2017-12-22 장차석 : 내용이 긴 컨테츠가 닫히면, 페이지 하단에 화면 붙는 이슈 수정\\n            var objPosition =  $(\\'#inreview\\', parent.document).offset().top;\\n            $(\\'html,body\\', parent.document).scrollTop(objPosition);\\n\\n            resizeFrame();\\n        }\\n        \\n        function resizeFrame()\\n        {\\n            //var oBody = document.body;\\n            //var tb_contents = document.getElementById(\"contents-wrapper\");\\n            var i_height = jQuery(\\'#contents-wrapper\\').outerHeight();\\n            //console.log(i_height);\\n            if ( ! i_height) {\\n                i_height = jQuery(\\'body\\').outerHeight();\\n            }\\n            //console.log( i_height );\\n\\n            parent.resizeFrameHeight(\\'inreview\\',i_height);\\n            if ( IntervarId ) clearInterval( IntervarId );\\n        }\\n        jQuery(resizeFrame);\\n\\n       \\n        // KM-1483 Amplitude\\n        var trackerReview = (function(){\\n            /**\\n             * 상품정보를 최초 한번만 호출하여 해당 정보값 가지고 있어야함.\\n             * shop\\\\data\\\\skin_mobileV2\\\\designgj\\\\myp\\\\review.htm 에서 호출\\n             * trackerReview._goodsViewInfo(\\'55222\\');\\n             */\\n            var _goodsViewData = {}\\n\\n            function _goodsViewInfo(no){\\n                $.ajax({\\n                    url: \\'https://api.kurly.com\\' + \\'/v3/home/products/\\' + no\\n                }).done(function(response){\\n                    _goodsViewData = response.data;\\n                }).fail(function(e){\\n                    console.log(\"ERROR on products API calling!!!\", e);\\n                });\\n            }\\n\\n            function reviewAction($target){\\n                var _action_data = {};\\n                _action_data.position = $target.find(\\'[name=index]\\').val();\\n                _action_data.thumbnail_image_url = $target.find(\\'[name=image]\\').val() !== \\'\\' ? true : false;\\n                _action_data.user_grade = $target.find(\\'[name=grade]\\').val();\\n                _action_data.pNo = $target.find(\\'[name=pNo]\\').val();\\n                _action_data.is_best = $target.find(\\'[name=best]\\').val() === \\'true\\' ? true : false;\\n                actionData(_action_data);\\n            }\\n\\n            function actionData(data){\\n                var items, i, len;\\n                items = _goodsViewData;\\n                \\n                data.original_price = items.original_price;\\n                data.price = items.discounted_price;\\n                \\n                if(items.package_products.length > 0){\\n                    len = items.package_products.length;\\n                    for(i = 0;i < len; i++){\\n                        if(data.pNo === items.package_products[i].product_no){\\n                            data.parent_product_no = items.no;\\n                            data.parent_product_name = items.name\\n                            data.product_no = items.package_products[i].no;\\n                            data.product_name = items.package_products[i].name;\\n                        }\\n                    }\\n                }else{\\n                    data.product_no = items.no;\\n                    data.product_name = items.name;\\n                }\\n                sendData(data);\\n            }\\n\\n            function sendData(data){\\n                parent.KurlyTracker.setScreenName(\\'product_review_detail\\');\\n                parent.KurlyTracker.setAction(\\'view_review_detail\\', data).sendData();\\n            }\\n\\n            return {\\n                _goodsViewInfo: _goodsViewInfo,\\n                reviewAction : reviewAction\\n            }\\n        })();\\n        trackerReview._goodsViewInfo(\\'55222\\');\\n    </script>\\n<style>\\n        body *{font-family:\\'Noto Sans\\';font-weight:400;letter-spacing:0}\\n        /* 제목부분 글줄임처리 */\\n        .goods_board .tbl_newtype1\\n        .xans-product-additional table.tbl_newtype1 td{padding:20px 3px 22px;line-height:20px}\\n        .xans-product-additional table.tbl_newtype1 td .snd{display:none}\\n        .xans-product-additional .on table.tbl_newtype1 td .fst{display:none}\\n        .xans-product-additional .on table.tbl_newtype1 td .snd{display:block}\\n        /* 고객후기_제목 */\\n        .goods_board .tbl_newtype1 .subject{padding-left:50px;text-align:left;}\\n        .goods_board .tbl_newtype1 .subject .tit_notice{padding-left:20px;background:url(/shop/data/skin/designgj/images/goods/ico_re.gif) no-repeat 0 3px}\\n        .goods_board .tbl_newtype1 .time{color:#939393}\\n        /* 고객후기_상세 */\\n        .goods_board .name_purchase .name{display:block;font-weight:700;font-size:12px;color:#514859;line-height:18px}\\n        .goods_board .name_purchase .package{padding-top:2px;font-size:14px;color:#000;line-height:20px}\\n        .goods_board .review_photo{padding-top:30px;line-height:16px}\\n        .goods_board .review_view{display:none;padding:10px 10px 11px;border-top:1px solid #e3e3e3;}\\n        .goods_board .review_view .inner_review{width:100%;padding:20px 9px 9px;line-height:25px}\\n        .goods_board .review_notice .name_purchase{display:none}\\n        .goods_board .review_notice .review_photo{display:none}\\n        .goods_board .goods-review-grp-btn .styled-button{height:32px}\\n        /* 고객후기 없을때 */\\n        .goods_board .no_data{padding:30px;text-align:center}\\n        /* 페이징영역 */\\n        .goods_board .board_pg_area{clear:both;text-align:center;padding-bottom:15px}\\n    </style>\\n</head>\\n<body style=\"overflow-y: hidden;\">\\n<div id=\"contents-wrapper\" class=\"goods_board\">\\n<div class=\"xans-element- xans-product xans-product-additional detail_board  \">\\n<div class=\"board\">\\n<span class=\"line\"></span>\\n<form name=\"frmList\">\\n<input type=\"hidden\" name=\"sort\" value=\"\">\\n<input type=\"hidden\" name=\"page_num\" value=\"\">\\n<input type=\"hidden\" name=\"goodsno\" value=\"55222\">\\n<div class=\"title_txt\">\\n<h2>PRODUCT REVIEW</h2>\\n<div class=\"sort-wrap\">\\n<ul class=\"list_type1 old\">\\n<li><span class=\"ico\"></span><p class=\"txt\">상품에 대한 문의를 남기는 공간입니다. 해당 게시판의 성격과 다른 글은 사전동의 없이 담당 게시판으로 이동될 수 있습니다.</p></li>\\n<li><span class=\"ico\"></span><p class=\"txt\">배송관련, 주문(취소/교환/환불)관련 문의 및 요청사항은 마이컬리 내 <a href=\"#none\" onclick=\"window.parent.location.href = \\'/shop/mypage/mypage_qna.php\\'\" class=\"emph\">1:1 문의</a>에 남겨주세요.</p></li>\\n</ul>\\n<div class=\"sort\" style=\"bottom:-9px\">\\n<select onchange=\"this.form.sort.value=this.value;this.form.submit()\">\\n<option value=\"1\">최근등록순</option>\\n<option value=\"2\">좋아요많은순</option>\\n<option value=\"3\">조회많은순</option>\\n</select>\\n</div>\\n</div>\\n</div>\\n<table class=\"xans-board-listheader\" width=\"100%\" border=\"0\" cellpadding=\"0\" cellspacing=\"0\">\\n<caption style=\"display:none\">구매후기 제목</caption>\\n<colgroup>\\n<col style=\"width:70px;\">\\n<col style=\"width:auto;\">\\n<col style=\"width:51px;\">\\n<col style=\"width:77px;\">\\n<col style=\"width:100px;\">\\n<col style=\"width:40px;\">\\n<col style=\"width:80px;\">\\n</colgroup>\\n<tbody><tr>\\n<th scope=\"col\" class=\"input_txt\">번호</th>\\n<th scope=\"col\" class=\"input_txt\">제목</th>\\n<th scope=\"col\" class=\"input_txt\"><span class=\"screen_out\">회원 등급</span></th>\\n<th scope=\"col\" class=\"input_txt\" align=\"left\">작성자</th>\\n<th scope=\"col\" class=\"input_txt\">작성일</th>\\n<th scope=\"col\" class=\"input_txt\">도움</th>\\n<th scope=\"col\" class=\"input_txt\">조회</th>\\n</tr>\\n</tbody></table>\\n<div class=\"tr_line\">\\n<table class=\"xans-board-listheaderd tbl_newtype1\" width=\"100%\" cellpadding=\"0\" cellspacing=\"0\" onclick=\"view_content(this,event,false)\">\\n<caption style=\"display:none\">구매후기 내용</caption>\\n<colgroup>\\n<col style=\"width:70px;\">\\n<col style=\"width:auto;\">\\n<col style=\"width:51px;\">\\n<col style=\"width:77px;\">\\n<col style=\"width:100px;\">\\n<col style=\"width:40px;\">\\n<col style=\"width:80px;\">\\n</colgroup>\\n<tbody><tr>\\n\\n<input type=\"hidden\" name=\"index\" value=\"8\">\\n<input type=\"hidden\" name=\"image\" value=\"true\">\\n<input type=\"hidden\" name=\"grade\" value=\"3\">\\n<input type=\"hidden\" name=\"best\" value=\"false\">\\n<input type=\"hidden\" name=\"pNo\" value=\"\">\\n\\n<td align=\"center\">134</td>\\n<td class=\"subject\">\\n<div class=\"fst\">좋아요 <img src=\"https://res.kurly.com/pc/ico/1910/ico_attach2.gif\" alt=\"이미지가 첨부됨\"></div>\\n<div class=\"snd\">좋아요 <img src=\"https://res.kurly.com/pc/ico/1910/ico_attach2.gif\" alt=\"이미지가 첨부됨\"></div>\\n</td>\\n<td class=\"user_grade grade_comm\">\\n<span class=\"ico_grade grade3\">\\n퍼플 </span>\\n</td>\\n<td class=\"user_grade\">\\n변*연 </td>\\n<td class=\"time\">2020-10-25</td>\\n<td>\\n<span class=\"review-like-cnt\" data-sno=\"18300508\">0</span>\\n</td>\\n<td>\\n<span class=\"review-hit-cnt\" data-sno=\"18300508\">3</span>\\n</td>\\n</tr>\\n</tbody></table>\\n<div data-sno=\"18300508\" class=\"review_view\">\\n<div class=\"inner_review\">\\n<div class=\"name_purchase\">\\n<strong class=\"name\">[퀘스크렘] 블루치즈 크림치즈</strong>\\n<p class=\"package\"></p>\\n</div>\\n<div class=\"review_photo\"></div>\\n많이 꼬릿꼬릿(?)하진 않아요~적당히 즐길수 있는 불루 치즈 맛입니다~~^^\\n</div>\\n<div class=\"goods-review-grp-btn\">\\n<button type=\"button\" class=\"styled-button review-like-btn\" data-sno=\"18300508\" onclick=\"review_like(\\'18300508\\',$(this));\">도움이 돼요 <span class=\"num\">0</span></button>\\n</div>\\n</div>\\n</div>\\n<div class=\"tr_line\">\\n<table class=\"xans-board-listheaderd tbl_newtype1\" width=\"100%\" cellpadding=\"0\" cellspacing=\"0\" onclick=\"view_content(this,event,false)\">\\n<caption style=\"display:none\">구매후기 내용</caption>\\n<colgroup>\\n<col style=\"width:70px;\">\\n<col style=\"width:auto;\">\\n<col style=\"width:51px;\">\\n<col style=\"width:77px;\">\\n<col style=\"width:100px;\">\\n<col style=\"width:40px;\">\\n<col style=\"width:80px;\">\\n</colgroup>\\n<tbody><tr>\\n\\n<input type=\"hidden\" name=\"index\" value=\"9\">\\n<input type=\"hidden\" name=\"image\" value=\"\">\\n<input type=\"hidden\" name=\"grade\" value=\"5\">\\n<input type=\"hidden\" name=\"best\" value=\"false\">\\n<input type=\"hidden\" name=\"pNo\" value=\"\">\\n\\n<td align=\"center\">133</td>\\n<td class=\"subject\">\\n<div class=\"fst\">꿀이랑 너무 잘 어울림 </div>\\n<div class=\"snd\">꿀이랑 너무 잘 어울림 </div>\\n</td>\\n <td class=\"user_grade grade_comm\">\\n<span class=\"ico_grade grade5\">\\n프렌즈 </span>\\n</td>\\n<td class=\"user_grade\">\\n이*현 </td>\\n<td class=\"time\">2020-10-25</td>\\n<td>\\n<span class=\"review-like-cnt\" data-sno=\"18268182\">0</span>\\n</td>\\n<td>\\n<span class=\"review-hit-cnt\" data-sno=\"18268182\">1</span>\\n</td>\\n</tr>\\n</tbody></table>\\n<div data-sno=\"18268182\" class=\"review_view\">\\n<div class=\"inner_review\">\\n<div class=\"name_purchase\">\\n<strong class=\"name\">[퀘스크렘] 블루치즈 크림치즈</strong>\\n<p class=\"package\"></p>\\n</div>\\n<div class=\"review_photo\"></div>\\n이것만 먹으면 꼬릿한데 꿀 넣으면 존맛탱\\n</div>\\n<div class=\"goods-review-grp-btn\">\\n<button type=\"button\" class=\"styled-button review-like-btn\" data-sno=\"18268182\" onclick=\"review_like(\\'18268182\\',$(this));\">도움이 돼요 <span class=\"num\">0</span></button>\\n</div>\\n</div>\\n</div>\\n<div class=\"tr_line\">\\n<table class=\"xans-board-listheaderd tbl_newtype1\" width=\"100%\" cellpadding=\"0\" cellspacing=\"0\" onclick=\"view_content(this,event,false)\">\\n<caption style=\"display:none\">구매후기 내용</caption>\\n<colgroup>\\n<col style=\"width:70px;\">\\n<col style=\"width:auto;\">\\n<col style=\"width:51px;\">\\n<col style=\"width:77px;\">\\n<col style=\"width:100px;\">\\n<col style=\"width:40px;\">\\n<col style=\"width:80px;\">\\n</colgroup>\\n<tbody><tr>\\n\\n<input type=\"hidden\" name=\"index\" value=\"10\">\\n<input type=\"hidden\" name=\"image\" value=\"\">\\n<input type=\"hidden\" name=\"grade\" value=\"1\">\\n<input type=\"hidden\" name=\"best\" value=\"false\">\\n<input type=\"hidden\" name=\"pNo\" value=\"\">\\n\\n<td align=\"center\">132</td>\\n<td class=\"subject\">\\n<div class=\"fst\">맛있어요 </div>\\n<div class=\"snd\">맛있어요 </div>\\n</td>\\n<td class=\"user_grade grade_comm\">\\n<span class=\"ico_grade grade1\">\\n화이트 </span>\\n</td>\\n<td class=\"user_grade\">\\n최*숙 </td>\\n<td class=\"time\">2020-10-24</td>\\n<td>\\n<span class=\"review-like-cnt\" data-sno=\"18264661\">0</span>\\n</td>\\n<td>\\n<span class=\"review-hit-cnt\" data-sno=\"18264661\">1</span>\\n</td>\\n</tr>\\n</tbody></table>\\n<div data-sno=\"18264661\" class=\"review_view\">\\n<div class=\"inner_review\">\\n<div class=\"name_purchase\">\\n<strong class=\"name\">[퀘스크렘] 블루치즈 크림치즈</strong>\\n<p class=\"package\"></p>\\n</div>\\n<div class=\"review_photo\"></div>\\n계속 재구매할것같아요\\n</div>\\n<div class=\"goods-review-grp-btn\">\\n<button type=\"button\" class=\"styled-button review-like-btn\" data-sno=\"18264661\" onclick=\"review_like(\\'18264661\\',$(this));\">도움이 돼요 <span class=\"num\">0</span></button>\\n</div>\\n</div>\\n</div>\\n<div class=\"tr_line\">\\n<table class=\"xans-board-listheaderd tbl_newtype1\" width=\"100%\" cellpadding=\"0\" cellspacing=\"0\" onclick=\"view_content(this,event,false)\">\\n<caption style=\"display:none\">구매후기 내용</caption>\\n<colgroup>\\n<col style=\"width:70px;\">\\n<col style=\"width:auto;\">\\n<col style=\"width:51px;\">\\n<col style=\"width:77px;\">\\n<col style=\"width:100px;\">\\n<col style=\"width:40px;\">\\n<col style=\"width:80px;\">\\n</colgroup>\\n<tbody><tr>\\n\\n<input type=\"hidden\" name=\"index\" value=\"11\">\\n<input type=\"hidden\" name=\"image\" value=\"\">\\n<input type=\"hidden\" name=\"grade\" value=\"2\">\\n<input type=\"hidden\" name=\"best\" value=\"false\">\\n<input type=\"hidden\" name=\"pNo\" value=\"\">\\n\\n<td align=\"center\">131</td>\\n<td class=\"subject\">\\n<div class=\"fst\">제대로 치즈 </div>\\n<div class=\"snd\">제대로 치즈 </div>\\n</td>\\n<td class=\"user_grade grade_comm\">\\n <span class=\"ico_grade grade2\">\\n라벤더 </span>\\n</td>\\n<td class=\"user_grade\">\\n염*혜 </td>\\n<td class=\"time\">2020-10-24</td>\\n<td>\\n<span class=\"review-like-cnt\" data-sno=\"18263727\">0</span>\\n</td>\\n<td>\\n<span class=\"review-hit-cnt\" data-sno=\"18263727\">1</span>\\n</td>\\n</tr>\\n</tbody></table>\\n<div data-sno=\"18263727\" class=\"review_view\">\\n<div class=\"inner_review\">\\n<div class=\"name_purchase\">\\n<strong class=\"name\">[퀘스크렘] 블루치즈 크림치즈</strong>\\n<p class=\"package\"></p>\\n</div>\\n<div class=\"review_photo\"></div>\\n진한 크림치즈를 먹고 싶다면추천<br>\\n부드럽게 발리지는 않네요<br>\\n그냥 얹어놓다시피 해서 먹어야해요\\n</div>\\n<div class=\"goods-review-grp-btn\">\\n<button type=\"button\" class=\"styled-button review-like-btn\" data-sno=\"18263727\" onclick=\"review_like(\\'18263727\\',$(this));\">도움이 돼요 <span class=\"num\">0</span></button>\\n</div>\\n</div>\\n</div>\\n<div class=\"tr_line\">\\n<table class=\"xans-board-listheaderd tbl_newtype1\" width=\"100%\" cellpadding=\"0\" cellspacing=\"0\" onclick=\"view_content(this,event,false)\">\\n<caption style=\"display:none\">구매후기 내용</caption>\\n<colgroup>\\n<col style=\"width:70px;\">\\n<col style=\"width:auto;\">\\n<col style=\"width:51px;\">\\n<col style=\"width:77px;\">\\n<col style=\"width:100px;\">\\n<col style=\"width:40px;\">\\n<col style=\"width:80px;\">\\n</colgroup>\\n<tbody><tr>\\n\\n<input type=\"hidden\" name=\"index\" value=\"12\">\\n<input type=\"hidden\" name=\"image\" value=\"\">\\n<input type=\"hidden\" name=\"grade\" value=\"0\">\\n<input type=\"hidden\" name=\"best\" value=\"false\">\\n<input type=\"hidden\" name=\"pNo\" value=\"\">\\n\\n<td align=\"center\">130</td>\\n<td class=\"subject\">\\n<div class=\"fst\">크림치즈 </div>\\n<div class=\"snd\">크림치즈 </div>\\n</td>\\n<td class=\"user_grade grade_comm\">\\n</td>\\n<td class=\"user_grade\">\\n이*주 </td>\\n<td class=\"time\">2020-10-24</td>\\n<td>\\n<span class=\"review-like-cnt\" data-sno=\"18247566\">0</span>\\n</td>\\n<td>\\n<span class=\"review-hit-cnt\" data-sno=\"18247566\">0</span>\\n</td>\\n</tr>\\n</tbody></table>\\n<div data-sno=\"18247566\" class=\"review_view\">\\n<div class=\"inner_review\">\\n<div class=\"name_purchase\">\\n<strong class=\"name\">[퀘스크렘] 블루치즈 크림치즈</strong>\\n<p class=\"package\"></p>\\n</div>\\n<div class=\"review_photo\"></div>\\n꾸덕하니 정말 맛있어요 초딩입맛에도 잘 맞나봐요\\n</div>\\n<div class=\"goods-review-grp-btn\">\\n<button type=\"button\" class=\"styled-button review-like-btn\" data-sno=\"18247566\" onclick=\"review_like(\\'18247566\\',$(this));\">도움이 돼요 <span class=\"num\">0</span></button>\\n</div>\\n</div>\\n</div>\\n<div class=\"tr_line\">\\n<table class=\"xans-board-listheaderd tbl_newtype1\" width=\"100%\" cellpadding=\"0\" cellspacing=\"0\" onclick=\"view_content(this,event,false)\">\\n<caption style=\"display:none\">구매후기 내용</caption>\\n<colgroup>\\n<col style=\"width:70px;\">\\n<col style=\"width:auto;\">\\n<col style=\"width:51px;\">\\n<col style=\"width:77px;\">\\n<col style=\"width:100px;\">\\n<col style=\"width:40px;\">\\n<col style=\"width:80px;\">\\n</colgroup>\\n<tbody><tr>\\n\\n<input type=\"hidden\" name=\"index\" value=\"13\">\\n<input type=\"hidden\" name=\"image\" value=\"true\">\\n<input type=\"hidden\" name=\"grade\" value=\"0\">\\n<input type=\"hidden\" name=\"best\" value=\"false\">\\n<input type=\"hidden\" name=\"pNo\" value=\"\">\\n\\n<td align=\"center\">129</td>\\n<td class=\"subject\">\\n<div class=\"fst\">연어베이글을 위해 <img src=\"https://res.kurly.com/pc/ico/1910/ico_attach2.gif\" alt=\"이미지가 첨부됨\"></div>\\n<div class=\"snd\">연어베이글을 위해 <img src=\"https://res.kurly.com/pc/ico/1910/ico_attach2.gif\" alt=\"이미지가 첨부됨\"></div>\\n</td>\\n<td class=\"user_grade grade_comm\">\\n </td>\\n<td class=\"user_grade\">\\n장*연 </td>\\n<td class=\"time\">2020-10-24</td>\\n<td>\\n<span class=\"review-like-cnt\" data-sno=\"18241216\">0</span>\\n</td>\\n<td>\\n<span class=\"review-hit-cnt\" data-sno=\"18241216\">1</span>\\n</td>\\n</tr>\\n</tbody></table>\\n<div data-sno=\"18241216\" class=\"review_view\">\\n<div class=\"inner_review\">\\n<div class=\"name_purchase\">\\n<strong class=\"name\">[퀘스크렘] 블루치즈 크림치즈</strong>\\n<p class=\"package\"></p>\\n</div>\\n<div class=\"review_photo\"></div>\\n크림치즈 구입 했어요\\n</div>\\n<div class=\"goods-review-grp-btn\">\\n<button type=\"button\" class=\"styled-button review-like-btn\" data-sno=\"18241216\" onclick=\"review_like(\\'18241216\\',$(this));\">도움이 돼요 <span class=\"num\">0</span></button>\\n</div>\\n</div>\\n</div>\\n<div class=\"tr_line\">\\n<table class=\"xans-board-listheaderd tbl_newtype1\" width=\"100%\" cellpadding=\"0\" cellspacing=\"0\" onclick=\"view_content(this,event,false)\">\\n<caption style=\"display:none\">구매후기 내용</caption>\\n<colgroup>\\n<col style=\"width:70px;\">\\n<col style=\"width:auto;\">\\n<col style=\"width:51px;\">\\n<col style=\"width:77px;\">\\n<col style=\"width:100px;\">\\n<col style=\"width:40px;\">\\n<col style=\"width:80px;\">\\n</colgroup>\\n<tbody><tr>\\n\\n<input type=\"hidden\" name=\"index\" value=\"14\">\\n<input type=\"hidden\" name=\"image\" value=\"\">\\n<input type=\"hidden\" name=\"grade\" value=\"0\">\\n<input type=\"hidden\" name=\"best\" value=\"false\">\\n<input type=\"hidden\" name=\"pNo\" value=\"\">\\n\\n<td align=\"center\">128</td>\\n<td class=\"subject\">\\n<div class=\"fst\">블루치즈는 처음인데 </div>\\n<div class=\"snd\">블루치즈는 처음인데 </div>\\n</td>\\n<td class=\"user_grade grade_comm\">\\n</td>\\n<td class=\"user_grade\">\\n조*민 </td>\\n<td class=\"time\">2020-10-23</td>\\n<td>\\n<span class=\"review-like-cnt\" data-sno=\"18217518\">0</span>\\n</td>\\n<td>\\n<span class=\"review-hit-cnt\" data-sno=\"18217518\">2</span>\\n</td>\\n </tr>\\n</tbody></table>\\n<div data-sno=\"18217518\" class=\"review_view\">\\n<div class=\"inner_review\">\\n<div class=\"name_purchase\">\\n<strong class=\"name\">[퀘스크렘] 블루치즈 크림치즈</strong>\\n<p class=\"package\"></p>\\n</div>\\n<div class=\"review_photo\"></div>\\n블루치즈는 처음 먹어보는데 특유의 콤콤한 맛이 참 맛있네요. 제 취향입니다. 그렇다고 블루치즈 맛이 엄청 강한건 아니구 크림치즈 맛이긴 한데 뭔가 향이나 끝맛이 다르다구 해야할까요! 어쨌든 살까말까 고민하신다면 가성비도 괜찮으니 한번쯤 사보시는거도 추천드립니당\\n</div>\\n<div class=\"goods-review-grp-btn\">\\n<button type=\"button\" class=\"styled-button review-like-btn\" data-sno=\"18217518\" onclick=\"review_like(\\'18217518\\',$(this));\">도움이 돼요 <span class=\"num\">0</span></button>\\n</div>\\n</div>\\n</div>\\n</form>\\n<p class=\"btnArea after\">\\n<a href=\"#none\" onclick=\"popup_register( \\'add_review\\', \\'55222\\' )\"><span class=\"bhs_button\" style=\"line-height:30px; width:130px;\">후기쓰기</span></a>\\n</p>\\n</div>\\n</div>\\n<div class=\"board_pg_area\"><a href=\"/shop/goods/goods_review_list.php?goodsno=55222&amp;page=1\" class=\"layout-pagination-button layout-pagination-first-page\">맨 처음 페이지로 가기</a><a href=\"/shop/goods/goods_review_list.php?goodsno=55222&amp;page=1\" class=\"layout-pagination-button layout-pagination-prev-page\">이전 페이지로 가기</a><a href=\"/shop/goods/goods_review_list.php?goodsno=55222&amp;page=1\" class=\"layout-pagination-button layout-pagination-number\">1</a><strong class=\"layout-pagination-button layout-pagination-number __active\">2</strong><a href=\"/shop/goods/goods_review_list.php?goodsno=55222&amp;page=3\" class=\"layout-pagination-button layout-pagination-number\">3</a><a href=\"/shop/goods/goods_review_list.php?goodsno=55222&amp;page=4\" class=\"layout-pagination-button layout-pagination-number\">4</a><a href=\"/shop/goods/goods_review_list.php?goodsno=55222&amp;page=5\" class=\"layout-pagination-button layout-pagination-number\">5</a><a href=\"/shop/goods/goods_review_list.php?goodsno=55222&amp;page=6\" class=\"layout-pagination-button layout-pagination-number\">6</a><a href=\"/shop/goods/goods_review_list.php?goodsno=55222&amp;page=7\" class=\"layout-pagination-button layout-pagination-number\">7</a><a href=\"/shop/goods/goods_review_list.php?goodsno=55222&amp;page=8\" class=\"layout-pagination-button layout-pagination-number\">8</a><a href=\"/shop/goods/goods_review_list.php?goodsno=55222&amp;page=9\" class=\"layout-pagination-button layout-pagination-number\">9</a><a href=\"/shop/goods/goods_review_list.php?goodsno=55222&amp;page=10\" class=\"layout-pagination-button layout-pagination-number\">10</a><a href=\"/shop/goods/goods_review_list.php?goodsno=55222&amp;page=3\" class=\"layout-pagination-button layout-pagination-next-page\">다음 페이지로 가기</a><a href=\"/shop/goods/goods_review_list.php?goodsno=55222&amp;page=21\" class=\"layout-pagination-button layout-pagination-last-page\">맨 끝 페이지로 가기</a></div>\\n</div>\\n<script type=\"text/javascript\">window.NREUM||(NREUM={});NREUM.info={\"beacon\":\"bam.nr-data.net\",\"licenseKey\":\"NRJS-5dec146893a58b07e31\",\"applicationID\":\"602251426\",\"transactionName\":\"MlZUZhdUXkoCAkBQDQscY0AMGkNRDBEbXg0KV0UdAlpfXRA+RlwUDFZBbQlcQ01NEVxJ\",\"queueTime\":0,\"applicationTime\":84,\"atts\":\"HhFXEF9OTUQ=\",\"errorBeacon\":\"bam.nr-data.net\",\"agent\":\"\"}</script>\\n</body></html>'"
      ]
     },
     "execution_count": 1,
     "metadata": {},
     "output_type": "execute_result"
    }
   ],
   "source": [
    "from selenium import webdriver\n",
    "from selenium.webdriver.common.keys import Keys\n",
    "from selenium.webdriver.chrome.options import Options\n",
    "from time import sleep\n",
    "\n",
    "# create a new chrome session\n",
    "# Chrome(chrome_options=options, ..로 하면\n",
    "# chrome_options를 options로 바꾸라는 오류 표시됨\n",
    "# DeprecationWarning: use options instead of chrome_options\n",
    "\n",
    "options = Options()\n",
    "\n",
    "driver = webdriver.Chrome(options=options, executable_path=\"/home/bitai/WDOP/proj_my/test_Wandoo_2/crawling_driver/chromedriver_linux64/chromedriver\")\n",
    "driver.maximize_window()\n",
    "\n",
    "\n",
    "# Navigate to the application home page\n",
    "# ./goods_review_list.php?goodsno=55222\n",
    "\n",
    "# 메인 페이지 주소\n",
    "# URL = 'https://www.kurly.com/shop/goods/goods_view.php?&goodsno=55222'\n",
    "\n",
    "# 리뷰 페이지 주소\n",
    "# URL = 'https://www.kurly.com/shop/goods/goods_review_list.php?goodsno=55222'\n",
    "URL = 'https://www.kurly.com/shop/goods/goods_review_list.php?goodsno=55222&page=2'\n",
    "\n",
    "# URL = 'http://deal.11st.co.kr/html/nc/deal/main.html'\n",
    "\n",
    "driver.get(URL)\n",
    "\n",
    "# 1.25초간 sleep\n",
    "sleep(1.25)\n",
    "\n",
    "page = driver.page_source\n",
    "page"
   ]
  },
  {
   "cell_type": "code",
   "execution_count": 39,
   "metadata": {},
   "outputs": [
    {
     "data": {
      "text/plain": [
       "[<div class=\"fst\">만족합니다. </div>,\n",
       " <div class=\"fst\">무난 </div>,\n",
       " <div class=\"fst\">짱짱 </div>,\n",
       " <div class=\"fst\">베이글에 <img alt=\"이미지가 첨부됨\" src=\"https://res.kurly.com/pc/ico/1910/ico_attach2.gif\"/></div>,\n",
       " <div class=\"fst\">굿 </div>]"
      ]
     },
     "execution_count": 39,
     "metadata": {},
     "output_type": "execute_result"
    }
   ],
   "source": [
    "# 치즈 구매후기 제목 추출 - step1\n",
    "\n",
    "from bs4 import BeautifulSoup\n",
    "\n",
    "# html = driver.page_source\n",
    "\n",
    "soup = BeautifulSoup(page,'lxml')\n",
    "\n",
    "all_review_title = soup.find_all('div', 'fst')\n",
    "\n",
    "\n",
    "review_title = soup.find_all('div', 'fst')\n",
    "\n",
    "sleep(1.53)\n",
    "\n",
    "\n",
    "#total = len(all_review_title)\n",
    "# print(total)\n",
    "review_title\n",
    "\n",
    "# type(title) # type: list\n",
    "#title\n"
   ]
  },
  {
   "cell_type": "code",
   "execution_count": 38,
   "metadata": {},
   "outputs": [
    {
     "data": {
      "text/plain": [
       "['만족합니다. ', '무난 ', '짱짱 ', None, '굿 ']"
      ]
     },
     "execution_count": 38,
     "metadata": {},
     "output_type": "execute_result"
    }
   ],
   "source": [
    "# 치즈 구매후기 제목 추출 - step2\n",
    "\n",
    "from bs4 import BeautifulSoup\n",
    "\n",
    "# html = driver.page_source\n",
    "\n",
    "soup = BeautifulSoup(page,'lxml')\n",
    "\n",
    "all_review_title = soup.find_all('div', 'fst')\n",
    "\n",
    "\n",
    "review_title = [soup.find_all('div', 'fst')\n",
    "         [n].string for n in range(0, len(all_review_title))]\n",
    "\n",
    "\n",
    "sleep(1.53)\n",
    "\n",
    "\n",
    "#total = len(all_review_title)\n",
    "# print(total)\n",
    "review_title\n",
    "\n",
    "# type(title) # type: list\n",
    "#title\n"
   ]
  },
  {
   "cell_type": "code",
   "execution_count": 3,
   "metadata": {},
   "outputs": [
    {
     "name": "stdout",
     "output_type": "stream",
     "text": [
      "\n",
      "\n",
      "        [퀘스크렘] 블루치즈 크림치즈\n",
      "    \n",
      "\n",
      "    진한 블루치즈 맛이네요    \n",
      "\n"
     ]
    }
   ],
   "source": [
    "from bs4 import BeautifulSoup\n",
    "from bs4.element import NavigableString\n",
    "\n",
    "html = \"\"\"\n",
    "<div class=\"inner_view\">\n",
    "    <div class=\"name_purchase\">\n",
    "        [퀘스크렘] 블루치즈 크림치즈\n",
    "    </div>\n",
    "    <div class=\"review_photo\"></div>\n",
    "    진한 블루치즈 맛이네요    \n",
    "</div>\n",
    "\"\"\"\n",
    "\n",
    "soup = BeautifulSoup(html, 'html.parser')\n",
    "target_tag = soup.select_one('.inner_view')\n",
    "print(target_tag.text)"
   ]
  },
  {
   "cell_type": "code",
   "execution_count": 33,
   "metadata": {
    "scrolled": true
   },
   "outputs": [
    {
     "name": "stdout",
     "output_type": "stream",
     "text": [
      "[오브젝트] <class 'bs4.element.NavigableString'>\n",
      "[대표형태]\n",
      "\n",
      "\n",
      "-----\n",
      "[오브젝트] <class 'bs4.element.Tag'>\n",
      "[대표형태]\n",
      "<div class=\"name_purchase\">\n",
      "        [퀘스크렘] 블루치즈 크림치즈\n",
      "    </div>\n",
      "-----\n",
      "[오브젝트] <class 'bs4.element.NavigableString'>\n",
      "[대표형태]\n",
      "\n",
      "\n",
      "-----\n",
      "[오브젝트] <class 'bs4.element.Tag'>\n",
      "[대표형태]\n",
      "<div class=\"review_photo\"></div>\n",
      "-----\n",
      "[오브젝트] <class 'bs4.element.NavigableString'>\n",
      "[대표형태]\n",
      "\n",
      "    진한 블루치즈 맛이네요    \n",
      "\n",
      "-----\n"
     ]
    }
   ],
   "source": [
    "soup = BeautifulSoup(html, 'html.parser')\n",
    "target_tag = soup.select_one('.inner_view')\n",
    "\n",
    "for bs_object in target_tag:\n",
    "    print(\"[오브젝트]\", type(bs_object))\n",
    "    print(\"[대표형태]\")\n",
    "    print(bs_object)\n",
    "    print(\"-----\")"
   ]
  },
  {
   "cell_type": "code",
   "execution_count": 34,
   "metadata": {},
   "outputs": [
    {
     "name": "stdout",
     "output_type": "stream",
     "text": [
      "\n",
      "\n",
      "\n",
      "    진한 블루치즈 맛이네요    \n",
      "\n"
     ]
    }
   ],
   "source": [
    "html = \"\"\"\n",
    "<div class=\"inner_view\">\n",
    "    <div class=\"name_purchase\">\n",
    "        [퀘스크렘] 블루치즈 크림치즈\n",
    "    </div>\n",
    "    <div class=\"review_photo\"></div>\n",
    "    진한 블루치즈 맛이네요    \n",
    "</div>\n",
    "\"\"\"\n",
    "\n",
    "soup = BeautifulSoup(html, 'html.parser')\n",
    "target_tag = soup.select_one('.inner_view')\n",
    "target_text_without_child_tags = [\n",
    "    bs_object\n",
    "    for bs_object\n",
    "    in target_tag\n",
    "    if isinstance(bs_object, NavigableString)\n",
    "]\n",
    "text = \"\".join(target_text_without_child_tags)\n",
    "print(text)"
   ]
  },
  {
   "cell_type": "code",
   "execution_count": 50,
   "metadata": {
    "scrolled": true
   },
   "outputs": [
    {
     "name": "stdout",
     "output_type": "stream",
     "text": [
      "<div class=\"inner_review\">\n",
      "<div class=\"name_purchase\">\n",
      "<strong class=\"name\"></strong>\n",
      "<p class=\"package\"></p>\n",
      "</div>\n",
      "<div class=\"review_photo\"></div>\n",
      "<p class=\"MsoNormal\">고객님 안녕하세요, 마켓컬리입니다.</p><p class=\"MsoNormal\"><br/></p><p class=\"MsoNormal\">■ Best 후기 당첨자 안내</p><p class=\"MsoNormal\"><br/></p><p class=\"MsoNormal\">[2020년 10월 19일 ~ 2020년 10월 25일]의 Best 후기 당첨자 공지드립니다.</p><p class=\"MsoNormal\"><br/></p><p class=\"MsoNormal\">정성껏 후기를 작성해주신 모든 고객님께 감사드립니다.<br/></p><p class=\"MsoNormal\">Best 후기는 아래 게시판을 통해 확인 가능합니다.</p><p class=\"MsoNormal\"><br/></p><p class=\"MsoNormal\"><a href=\"http://www.kurly.com/shop/goods/goods_review_best.php\">http://www.kurly.com/shop/goods/goods_review_best.php</a><br/></p><p class=\"MsoNormal\"><br/>마켓컬리는 상품에 대한 고객 여러분의 생생한 의견을 듣고 더 나은 상품을 준비하기 위해 상품 후기 게시판을 운영하고 있습니다<span lang=\"EN-US\">. </span><br/></p><p class=\"MsoNormal\">실제로 상품의 후기가 구매 결정에 있어 큰 도움이 된 best 후기를 아래로 공유드립니다.</p><p class=\"MsoNormal\"><br/></p><p class=\"MsoNormal\"><img alt=\"\" src=\"data:image/png;base64,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\"/></p><br/><p class=\"MsoNormal\"><span lang=\"EN-US\">감사합니다<span lang=\"EN-US\">.</span> <br/>마켓컬리 드림</span></p><p class=\"MsoListParagraph\" style=\"margin-left: 38pt;\"></p>\n",
      "</div>\n"
     ]
    }
   ],
   "source": [
    "# 리뷰 1페이지에 마켓컬리 관리자가 작성한 공지가 2건 있다.\n",
    "# 공지가 데이터 식별에 어려움을 주고 있어서 2페이지부터 진행할 예정.\n",
    "# 1페이지의 내용을 출력해보았다.\n",
    "\n",
    "soup = BeautifulSoup(page, 'html.parser')\n",
    "target_tag = soup.select_one('.inner_review')\n",
    "print(target_tag)"
   ]
  },
  {
   "cell_type": "code",
   "execution_count": 4,
   "metadata": {
    "scrolled": true
   },
   "outputs": [
    {
     "name": "stdout",
     "output_type": "stream",
     "text": [
      "[<div class=\"inner_review\">\n",
      "<div class=\"name_purchase\">\n",
      "<strong class=\"name\">[퀘스크렘] 블루치즈 크림치즈</strong>\n",
      "<p class=\"package\"></p>\n",
      "</div>\n",
      "<div class=\"review_photo\"></div>\n",
      "많이 꼬릿꼬릿(?)하진 않아요~적당히 즐길수 있는 불루 치즈 맛입니다~~^^\n",
      "</div>, <div class=\"inner_review\">\n",
      "<div class=\"name_purchase\">\n",
      "<strong class=\"name\">[퀘스크렘] 블루치즈 크림치즈</strong>\n",
      "<p class=\"package\"></p>\n",
      "</div>\n",
      "<div class=\"review_photo\"></div>\n",
      "이것만 먹으면 꼬릿한데 꿀 넣으면 존맛탱\n",
      "</div>, <div class=\"inner_review\">\n",
      "<div class=\"name_purchase\">\n",
      "<strong class=\"name\">[퀘스크렘] 블루치즈 크림치즈</strong>\n",
      "<p class=\"package\"></p>\n",
      "</div>\n",
      "<div class=\"review_photo\"></div>\n",
      "계속 재구매할것같아요\n",
      "</div>, <div class=\"inner_review\">\n",
      "<div class=\"name_purchase\">\n",
      "<strong class=\"name\">[퀘스크렘] 블루치즈 크림치즈</strong>\n",
      "<p class=\"package\"></p>\n",
      "</div>\n",
      "<div class=\"review_photo\"></div>\n",
      "진한 크림치즈를 먹고 싶다면추천<br/>\n",
      "부드럽게 발리지는 않네요<br/>\n",
      "그냥 얹어놓다시피 해서 먹어야해요\n",
      "</div>, <div class=\"inner_review\">\n",
      "<div class=\"name_purchase\">\n",
      "<strong class=\"name\">[퀘스크렘] 블루치즈 크림치즈</strong>\n",
      "<p class=\"package\"></p>\n",
      "</div>\n",
      "<div class=\"review_photo\"></div>\n",
      "꾸덕하니 정말 맛있어요 초딩입맛에도 잘 맞나봐요\n",
      "</div>, <div class=\"inner_review\">\n",
      "<div class=\"name_purchase\">\n",
      "<strong class=\"name\">[퀘스크렘] 블루치즈 크림치즈</strong>\n",
      "<p class=\"package\"></p>\n",
      "</div>\n",
      "<div class=\"review_photo\"></div>\n",
      "크림치즈 구입 했어요\n",
      "</div>, <div class=\"inner_review\">\n",
      "<div class=\"name_purchase\">\n",
      "<strong class=\"name\">[퀘스크렘] 블루치즈 크림치즈</strong>\n",
      "<p class=\"package\"></p>\n",
      "</div>\n",
      "<div class=\"review_photo\"></div>\n",
      "블루치즈는 처음 먹어보는데 특유의 콤콤한 맛이 참 맛있네요. 제 취향입니다. 그렇다고 블루치즈 맛이 엄청 강한건 아니구 크림치즈 맛이긴 한데 뭔가 향이나 끝맛이 다르다구 해야할까요! 어쨌든 살까말까 고민하신다면 가성비도 괜찮으니 한번쯤 사보시는거도 추천드립니당\n",
      "</div>]\n"
     ]
    }
   ],
   "source": [
    "# 2페이지 결과값\n",
    "soup = BeautifulSoup(page, 'html.parser')\n",
    "target_tag = soup.select('.inner_review')\n",
    "print(target_tag)"
   ]
  },
  {
   "cell_type": "code",
   "execution_count": 56,
   "metadata": {
    "scrolled": true
   },
   "outputs": [
    {
     "name": "stdout",
     "output_type": "stream",
     "text": [
      "<div class=\"inner_review\">\n",
      "<div class=\"name_purchase\">\n",
      "<strong class=\"name\">[퀘스크렘] 블루치즈 크림치즈</strong>\n",
      "<p class=\"package\"></p>\n",
      "</div>\n",
      "<div class=\"review_photo\"></div>\n",
      "많이 꼬릿꼬릿(?)하진 않아요~적당히 즐길수 있는 불루 치즈 맛입니다~~^^\n",
      "</div>\n"
     ]
    }
   ],
   "source": [
    "# 1단계\n",
    "\n",
    "soup = BeautifulSoup(page, 'html.parser')\n",
    "target_tag = soup.select_one('.inner_review')\n",
    "\n",
    "print(target_tag)"
   ]
  },
  {
   "cell_type": "code",
   "execution_count": 57,
   "metadata": {
    "scrolled": true
   },
   "outputs": [
    {
     "name": "stdout",
     "output_type": "stream",
     "text": [
      "[오브젝트] <class 'bs4.element.NavigableString'>\n",
      "[대표형태]\n",
      "\n",
      "\n",
      "-----\n",
      "[오브젝트] <class 'bs4.element.Tag'>\n",
      "[대표형태]\n",
      "<div class=\"name_purchase\">\n",
      "<strong class=\"name\">[퀘스크렘] 블루치즈 크림치즈</strong>\n",
      "<p class=\"package\"></p>\n",
      "</div>\n",
      "-----\n",
      "[오브젝트] <class 'bs4.element.NavigableString'>\n",
      "[대표형태]\n",
      "\n",
      "\n",
      "-----\n",
      "[오브젝트] <class 'bs4.element.Tag'>\n",
      "[대표형태]\n",
      "<div class=\"review_photo\"></div>\n",
      "-----\n",
      "[오브젝트] <class 'bs4.element.NavigableString'>\n",
      "[대표형태]\n",
      "\n",
      "많이 꼬릿꼬릿(?)하진 않아요~적당히 즐길수 있는 불루 치즈 맛입니다~~^^\n",
      "\n",
      "-----\n"
     ]
    }
   ],
   "source": [
    "# 2단계\n",
    "\n",
    "soup = BeautifulSoup(page, 'html.parser')\n",
    "target_tag = soup.select_one('.inner_review')\n",
    "\n",
    "for bs_object in target_tag:\n",
    "    \n",
    "    print(\"[오브젝트]\", type(bs_object))\n",
    "    print(\"[대표형태]\")\n",
    "    print(bs_object)\n",
    "    print(\"-----\")"
   ]
  },
  {
   "cell_type": "code",
   "execution_count": 5,
   "metadata": {},
   "outputs": [
    {
     "name": "stdout",
     "output_type": "stream",
     "text": [
      "\n",
      "\n",
      "\n",
      "많이 꼬릿꼬릿(?)하진 않아요~적당히 즐길수 있는 불루 치즈 맛입니다~~^^\n",
      "\n"
     ]
    }
   ],
   "source": [
    "# 3단계\n",
    "\n",
    "soup = BeautifulSoup(page, 'html.parser')\n",
    "target_tag = soup.select_one('.inner_review')\n",
    "\n",
    "target_text_without_child_tags = [\n",
    "    bs_object\n",
    "    for bs_object\n",
    "    in target_tag\n",
    "    if isinstance(bs_object, NavigableString)\n",
    "]\n",
    "text = \"\".join(target_text_without_child_tags)\n",
    "print(text)"
   ]
  },
  {
   "cell_type": "code",
   "execution_count": 41,
   "metadata": {},
   "outputs": [
    {
     "name": "stdout",
     "output_type": "stream",
     "text": [
      "['\\n', <div class=\"name_purchase\">\n",
      "<strong class=\"name\">[퀘스크렘] 블루치즈 크림치즈</strong>\n",
      "<p class=\"package\"></p>\n",
      "</div>, '\\n', <div class=\"review_photo\"></div>, '\\n많이 꼬릿꼬릿(?)하진 않아요~적당히 즐길수 있는 불루 치즈 맛입니다~~^^\\n']\n"
     ]
    }
   ],
   "source": [
    "# 3단계\n",
    "\n",
    "soup = BeautifulSoup(page, 'html.parser')\n",
    "target_tag = soup.select_one('.inner_review')\n",
    "\n",
    "target_text_without_child_tags = [\n",
    "    bs_object\n",
    "    for bs_object in target_tag\n",
    "        if isinstance(bs_object, NavigableString)\n",
    "]\n",
    "\n",
    "print(target_text_without_child_tags)"
   ]
  },
  {
   "cell_type": "code",
   "execution_count": 48,
   "metadata": {},
   "outputs": [
    {
     "name": "stdout",
     "output_type": "stream",
     "text": [
      "7\n",
      "[]\n",
      "test=====\n",
      "\n",
      "\n",
      "많이 꼬릿꼬릿(?)하진 않아요~적당히 즐길수 있는 불루 치즈 맛입니다~~^^\n",
      "\n"
     ]
    }
   ],
   "source": [
    "# 3단계 - 복사 #깔피\n",
    "\n",
    "soup = BeautifulSoup(page, 'html.parser')\n",
    "target_tag = soup.select('.inner_review')\n",
    "\n",
    "\n",
    "\n",
    "target_text_without_child_tags = [\n",
    "    bs_object\n",
    "    for bs_object in target_tag\n",
    "        if isinstance(bs_object, NavigableString)\n",
    "]\n",
    "# text = \"\".join(target_text_without_child_tags)\n",
    "\n",
    "# print(target_tag) - 7개 리뷰를 담고있는 태그가 나온다.\n",
    "print(len(target_tag))\n",
    "print(target_text_without_child_tags)\n",
    "print(\"test=====\" + text)\n"
   ]
  },
  {
   "cell_type": "code",
   "execution_count": 31,
   "metadata": {},
   "outputs": [
    {
     "name": "stdout",
     "output_type": "stream",
     "text": [
      "Python wandoo(i-0, j-18)\n",
      "Python wandoo(i-0, j-19)\n",
      "Python wandoo(i-1, j-18)\n",
      "Python wandoo(i-1, j-19)\n",
      "Python wandoo(i-2, j-18)\n",
      "Python wandoo(i-2, j-19)\n"
     ]
    }
   ],
   "source": [
    "for i in range(0, 3):\n",
    "    for j in range(18, 20):\n",
    "        print(\"Python wandoo(i-%d, j-%d)\"%(i,j))"
   ]
  },
  {
   "cell_type": "code",
   "execution_count": 186,
   "metadata": {
    "scrolled": true
   },
   "outputs": [
    {
     "name": "stdout",
     "output_type": "stream",
     "text": [
      "[<div class=\"inner_review\">\n",
      "<div class=\"name_purchase\">\n",
      "<strong class=\"name\">[퀘스크렘] 블루치즈 크림치즈</strong>\n",
      "<p class=\"package\"></p>\n",
      "</div>\n",
      "<div class=\"review_photo\"></div>\n",
      "많이 꼬릿꼬릿(?)하진 않아요~적당히 즐길수 있는 불루 치즈 맛입니다~~^^\n",
      "</div>, <div class=\"inner_review\">\n",
      "<div class=\"name_purchase\">\n",
      "<strong class=\"name\">[퀘스크렘] 블루치즈 크림치즈</strong>\n",
      "<p class=\"package\"></p>\n",
      "</div>\n",
      "<div class=\"review_photo\"></div>\n",
      "이것만 먹으면 꼬릿한데 꿀 넣으면 존맛탱\n",
      "</div>, <div class=\"inner_review\">\n",
      "<div class=\"name_purchase\">\n",
      "<strong class=\"name\">[퀘스크렘] 블루치즈 크림치즈</strong>\n",
      "<p class=\"package\"></p>\n",
      "</div>\n",
      "<div class=\"review_photo\"></div>\n",
      "계속 재구매할것같아요\n",
      "</div>, <div class=\"inner_review\">\n",
      "<div class=\"name_purchase\">\n",
      "<strong class=\"name\">[퀘스크렘] 블루치즈 크림치즈</strong>\n",
      "<p class=\"package\"></p>\n",
      "</div>\n",
      "<div class=\"review_photo\"></div>\n",
      "진한 크림치즈를 먹고 싶다면추천<br/>\n",
      "부드럽게 발리지는 않네요<br/>\n",
      "그냥 얹어놓다시피 해서 먹어야해요\n",
      "</div>, <div class=\"inner_review\">\n",
      "<div class=\"name_purchase\">\n",
      "<strong class=\"name\">[퀘스크렘] 블루치즈 크림치즈</strong>\n",
      "<p class=\"package\"></p>\n",
      "</div>\n",
      "<div class=\"review_photo\"></div>\n",
      "꾸덕하니 정말 맛있어요 초딩입맛에도 잘 맞나봐요\n",
      "</div>, <div class=\"inner_review\">\n",
      "<div class=\"name_purchase\">\n",
      "<strong class=\"name\">[퀘스크렘] 블루치즈 크림치즈</strong>\n",
      "<p class=\"package\"></p>\n",
      "</div>\n",
      "<div class=\"review_photo\"></div>\n",
      "크림치즈 구입 했어요\n",
      "</div>, <div class=\"inner_review\">\n",
      "<div class=\"name_purchase\">\n",
      "<strong class=\"name\">[퀘스크렘] 블루치즈 크림치즈</strong>\n",
      "<p class=\"package\"></p>\n",
      "</div>\n",
      "<div class=\"review_photo\"></div>\n",
      "블루치즈는 처음 먹어보는데 특유의 콤콤한 맛이 참 맛있네요. 제 취향입니다. 그렇다고 블루치즈 맛이 엄청 강한건 아니구 크림치즈 맛이긴 한데 뭔가 향이나 끝맛이 다르다구 해야할까요! 어쨌든 살까말까 고민하신다면 가성비도 괜찮으니 한번쯤 사보시는거도 추천드립니당\n",
      "</div>]\n"
     ]
    }
   ],
   "source": [
    "target_tag = soup.select('.inner_review')\n",
    "print(target_tag)"
   ]
  },
  {
   "cell_type": "code",
   "execution_count": 46,
   "metadata": {},
   "outputs": [
    {
     "ename": "IndentationError",
     "evalue": "unexpected indent (<ipython-input-46-345c5ffe2f2e>, line 8)",
     "output_type": "error",
     "traceback": [
      "\u001b[0;36m  File \u001b[0;32m\"<ipython-input-46-345c5ffe2f2e>\"\u001b[0;36m, line \u001b[0;32m8\u001b[0m\n\u001b[0;31m    for bs_object in target_tag:\u001b[0m\n\u001b[0m    ^\u001b[0m\n\u001b[0;31mIndentationError\u001b[0m\u001b[0;31m:\u001b[0m unexpected indent\n"
     ]
    }
   ],
   "source": [
    "# 3단계 #깔피\n",
    "\n",
    "soup = BeautifulSoup(page, 'html.parser')\n",
    "target_tag = soup.select('.inner_review')\n",
    "\n",
    "bs_object\n",
    "    \n",
    "    for bs_object in target_tag:\n",
    "        bs_object\n",
    "\n",
    "type(child_tags)\n",
    "\n",
    "#for i in range(len(target_tag)):\n",
    "#    print(child_tags)\n",
    "\n",
    "child_tags"
   ]
  },
  {
   "cell_type": "code",
   "execution_count": 159,
   "metadata": {},
   "outputs": [
    {
     "data": {
      "text/plain": [
       "<div class=\"inner_review\">\n",
       "<div class=\"name_purchase\">\n",
       "<strong class=\"name\">[퀘스크렘] 블루치즈 크림치즈</strong>\n",
       "<p class=\"package\"></p>\n",
       "</div>\n",
       "<div class=\"review_photo\"></div>\n",
       "많이 꼬릿꼬릿(?)하진 않아요~적당히 즐길수 있는 불루 치즈 맛입니다~~^^\n",
       "</div>"
      ]
     },
     "execution_count": 159,
     "metadata": {},
     "output_type": "execute_result"
    }
   ],
   "source": [
    "target_tag"
   ]
  },
  {
   "cell_type": "code",
   "execution_count": 245,
   "metadata": {},
   "outputs": [
    {
     "ename": "SyntaxError",
     "evalue": "invalid syntax (<ipython-input-245-4a057d686502>, line 28)",
     "output_type": "error",
     "traceback": [
      "\u001b[0;36m  File \u001b[0;32m\"<ipython-input-245-4a057d686502>\"\u001b[0;36m, line \u001b[0;32m28\u001b[0m\n\u001b[0;31m    review_list.append(review_row)sdfsdf\u001b[0m\n\u001b[0m                                       ^\u001b[0m\n\u001b[0;31mSyntaxError\u001b[0m\u001b[0;31m:\u001b[0m invalid syntax\n"
     ]
    }
   ],
   "source": [
    "# 3단계 - 복사2\n",
    "\n",
    "soup = BeautifulSoup(page, 'html.parser')\n",
    "\n",
    "target_tag_len = soup.select('.inner_review')\n",
    "target_tag = soup.select('.inner_review')\n",
    "\n",
    "review_list = []\n",
    "\n",
    "type(target_tag)\n",
    "\n",
    "for i in range(0, len(target_tag_len)):\n",
    "    bs_object\n",
    "    \n",
    "    print(\"=====0\")\n",
    "    review_row = []\n",
    "\n",
    "    for bs_object in target_tag:\n",
    "        print(\"=====1\")\n",
    "        \n",
    "        if isinstance(bs_object, NavigableString):\n",
    "            \n",
    "            \n",
    "            print(\"=====2\")\n",
    "            review_row.append(bs_object[i].text.split('꽥'))\n",
    "            \n",
    "            print(\"=====3\")            \n",
    "            review_list.append(review_row)sdfsdf\n",
    "    \n",
    "review_list"
   ]
  },
  {
   "cell_type": "code",
   "execution_count": 18,
   "metadata": {
    "scrolled": true
   },
   "outputs": [
    {
     "data": {
      "text/plain": [
       "[<div class=\"inner_review\">\n",
       " <div class=\"name_purchase\">\n",
       " <strong class=\"name\">[퀘스크렘] 블루치즈 크림치즈</strong>\n",
       " <p class=\"package\"></p>\n",
       " </div>\n",
       " <div class=\"review_photo\"></div>\n",
       " 많이 꼬릿꼬릿(?)하진 않아요~적당히 즐길수 있는 불루 치즈 맛입니다~~^^\n",
       " </div>,\n",
       " <div class=\"inner_review\">\n",
       " <div class=\"name_purchase\">\n",
       " <strong class=\"name\">[퀘스크렘] 블루치즈 크림치즈</strong>\n",
       " <p class=\"package\"></p>\n",
       " </div>\n",
       " <div class=\"review_photo\"></div>\n",
       " 이것만 먹으면 꼬릿한데 꿀 넣으면 존맛탱\n",
       " </div>,\n",
       " <div class=\"inner_review\">\n",
       " <div class=\"name_purchase\">\n",
       " <strong class=\"name\">[퀘스크렘] 블루치즈 크림치즈</strong>\n",
       " <p class=\"package\"></p>\n",
       " </div>\n",
       " <div class=\"review_photo\"></div>\n",
       " 계속 재구매할것같아요\n",
       " </div>,\n",
       " <div class=\"inner_review\">\n",
       " <div class=\"name_purchase\">\n",
       " <strong class=\"name\">[퀘스크렘] 블루치즈 크림치즈</strong>\n",
       " <p class=\"package\"></p>\n",
       " </div>\n",
       " <div class=\"review_photo\"></div>\n",
       " 진한 크림치즈를 먹고 싶다면추천<br/>\n",
       " 부드럽게 발리지는 않네요<br/>\n",
       " 그냥 얹어놓다시피 해서 먹어야해요\n",
       " </div>,\n",
       " <div class=\"inner_review\">\n",
       " <div class=\"name_purchase\">\n",
       " <strong class=\"name\">[퀘스크렘] 블루치즈 크림치즈</strong>\n",
       " <p class=\"package\"></p>\n",
       " </div>\n",
       " <div class=\"review_photo\"></div>\n",
       " 꾸덕하니 정말 맛있어요 초딩입맛에도 잘 맞나봐요\n",
       " </div>,\n",
       " <div class=\"inner_review\">\n",
       " <div class=\"name_purchase\">\n",
       " <strong class=\"name\">[퀘스크렘] 블루치즈 크림치즈</strong>\n",
       " <p class=\"package\"></p>\n",
       " </div>\n",
       " <div class=\"review_photo\"></div>\n",
       " 크림치즈 구입 했어요\n",
       " </div>,\n",
       " <div class=\"inner_review\">\n",
       " <div class=\"name_purchase\">\n",
       " <strong class=\"name\">[퀘스크렘] 블루치즈 크림치즈</strong>\n",
       " <p class=\"package\"></p>\n",
       " </div>\n",
       " <div class=\"review_photo\"></div>\n",
       " 블루치즈는 처음 먹어보는데 특유의 콤콤한 맛이 참 맛있네요. 제 취향입니다. 그렇다고 블루치즈 맛이 엄청 강한건 아니구 크림치즈 맛이긴 한데 뭔가 향이나 끝맛이 다르다구 해야할까요! 어쨌든 살까말까 고민하신다면 가성비도 괜찮으니 한번쯤 사보시는거도 추천드립니당\n",
       " </div>]"
      ]
     },
     "execution_count": 18,
     "metadata": {},
     "output_type": "execute_result"
    }
   ],
   "source": [
    "# 3단계 - 복사2\n",
    "\n",
    "soup = BeautifulSoup(page, 'html.parser')\n",
    "\n",
    "target_tag_len = soup.select('.inner_review')\n",
    "target_tag = soup.select('.inner_review')\n",
    "\n",
    "type(target_tag)\n",
    "target_tag\n"
   ]
  },
  {
   "cell_type": "code",
   "execution_count": 7,
   "metadata": {
    "scrolled": true
   },
   "outputs": [
    {
     "ename": "AttributeError",
     "evalue": "ResultSet object has no attribute 'text'. You're probably treating a list of elements like a single element. Did you call find_all() when you meant to call find()?",
     "output_type": "error",
     "traceback": [
      "\u001b[0;31m---------------------------------------------------------------------------\u001b[0m",
      "\u001b[0;31mAttributeError\u001b[0m                            Traceback (most recent call last)",
      "\u001b[0;32m<ipython-input-7-5010342750ed>\u001b[0m in \u001b[0;36m<module>\u001b[0;34m\u001b[0m\n\u001b[1;32m      3\u001b[0m \u001b[0;34m\u001b[0m\u001b[0m\n\u001b[1;32m      4\u001b[0m \u001b[0;31m# Type: bs4.element.Tag\u001b[0m\u001b[0;34m\u001b[0m\u001b[0;34m\u001b[0m\u001b[0;34m\u001b[0m\u001b[0m\n\u001b[0;32m----> 5\u001b[0;31m \u001b[0mwanpoo\u001b[0m \u001b[0;34m=\u001b[0m \u001b[0;34m[\u001b[0m\u001b[0msoup\u001b[0m\u001b[0;34m.\u001b[0m\u001b[0mselect\u001b[0m\u001b[0;34m(\u001b[0m\u001b[0;34m'.inner_review'\u001b[0m\u001b[0;34m)\u001b[0m\u001b[0;34m.\u001b[0m\u001b[0mtext\u001b[0m\u001b[0;34m.\u001b[0m\u001b[0msplit\u001b[0m\u001b[0;34m(\u001b[0m\u001b[0;34m'\\n'\u001b[0m\u001b[0;34m)\u001b[0m\u001b[0;34m]\u001b[0m\u001b[0;34m\u001b[0m\u001b[0;34m\u001b[0m\u001b[0m\n\u001b[0m\u001b[1;32m      6\u001b[0m \u001b[0;34m\u001b[0m\u001b[0m\n\u001b[1;32m      7\u001b[0m \u001b[0;34m\u001b[0m\u001b[0m\n",
      "\u001b[0;32m~/anaconda3/lib/python3.7/site-packages/bs4/element.py\u001b[0m in \u001b[0;36m__getattr__\u001b[0;34m(self, key)\u001b[0m\n\u001b[1;32m   2079\u001b[0m         \u001b[0;34m\"\"\"Raise a helpful exception to explain a common code fix.\"\"\"\u001b[0m\u001b[0;34m\u001b[0m\u001b[0;34m\u001b[0m\u001b[0m\n\u001b[1;32m   2080\u001b[0m         raise AttributeError(\n\u001b[0;32m-> 2081\u001b[0;31m             \u001b[0;34m\"ResultSet object has no attribute '%s'. You're probably treating a list of elements like a single element. Did you call find_all() when you meant to call find()?\"\u001b[0m \u001b[0;34m%\u001b[0m \u001b[0mkey\u001b[0m\u001b[0;34m\u001b[0m\u001b[0;34m\u001b[0m\u001b[0m\n\u001b[0m\u001b[1;32m   2082\u001b[0m         )\n",
      "\u001b[0;31mAttributeError\u001b[0m: ResultSet object has no attribute 'text'. You're probably treating a list of elements like a single element. Did you call find_all() when you meant to call find()?"
     ]
    }
   ],
   "source": [
    "# 얘는 리스트가 아니다\n",
    "# 리스트로 만들어줘야 위에서 쓸 수 있다.\n",
    "# 잘 나왔었는데 오류발생함\n",
    "\n",
    "# Type: bs4.element.Tag\n",
    "wanpoo = soup.select('.inner_review').text.split('\\n')\n",
    "\n",
    "\n",
    "print(wanpoo)\n",
    "type(wanpoo)"
   ]
  },
  {
   "cell_type": "code",
   "execution_count": 10,
   "metadata": {
    "scrolled": true
   },
   "outputs": [
    {
     "name": "stdout",
     "output_type": "stream",
     "text": [
      "[<div class=\"inner_review\">\n",
      "<div class=\"name_purchase\">\n",
      "<strong class=\"name\">[퀘스크렘] 블루치즈 크림치즈</strong>\n",
      "<p class=\"package\"></p>\n",
      "</div>\n",
      "<div class=\"review_photo\"></div>\n",
      "많이 꼬릿꼬릿(?)하진 않아요~적당히 즐길수 있는 불루 치즈 맛입니다~~^^\n",
      "</div>, <div class=\"inner_review\">\n",
      "<div class=\"name_purchase\">\n",
      "<strong class=\"name\">[퀘스크렘] 블루치즈 크림치즈</strong>\n",
      "<p class=\"package\"></p>\n",
      "</div>\n",
      "<div class=\"review_photo\"></div>\n",
      "이것만 먹으면 꼬릿한데 꿀 넣으면 존맛탱\n",
      "</div>, <div class=\"inner_review\">\n",
      "<div class=\"name_purchase\">\n",
      "<strong class=\"name\">[퀘스크렘] 블루치즈 크림치즈</strong>\n",
      "<p class=\"package\"></p>\n",
      "</div>\n",
      "<div class=\"review_photo\"></div>\n",
      "계속 재구매할것같아요\n",
      "</div>, <div class=\"inner_review\">\n",
      "<div class=\"name_purchase\">\n",
      "<strong class=\"name\">[퀘스크렘] 블루치즈 크림치즈</strong>\n",
      "<p class=\"package\"></p>\n",
      "</div>\n",
      "<div class=\"review_photo\"></div>\n",
      "진한 크림치즈를 먹고 싶다면추천<br/>\n",
      "부드럽게 발리지는 않네요<br/>\n",
      "그냥 얹어놓다시피 해서 먹어야해요\n",
      "</div>, <div class=\"inner_review\">\n",
      "<div class=\"name_purchase\">\n",
      "<strong class=\"name\">[퀘스크렘] 블루치즈 크림치즈</strong>\n",
      "<p class=\"package\"></p>\n",
      "</div>\n",
      "<div class=\"review_photo\"></div>\n",
      "꾸덕하니 정말 맛있어요 초딩입맛에도 잘 맞나봐요\n",
      "</div>, <div class=\"inner_review\">\n",
      "<div class=\"name_purchase\">\n",
      "<strong class=\"name\">[퀘스크렘] 블루치즈 크림치즈</strong>\n",
      "<p class=\"package\"></p>\n",
      "</div>\n",
      "<div class=\"review_photo\"></div>\n",
      "크림치즈 구입 했어요\n",
      "</div>, <div class=\"inner_review\">\n",
      "<div class=\"name_purchase\">\n",
      "<strong class=\"name\">[퀘스크렘] 블루치즈 크림치즈</strong>\n",
      "<p class=\"package\"></p>\n",
      "</div>\n",
      "<div class=\"review_photo\"></div>\n",
      "블루치즈는 처음 먹어보는데 특유의 콤콤한 맛이 참 맛있네요. 제 취향입니다. 그렇다고 블루치즈 맛이 엄청 강한건 아니구 크림치즈 맛이긴 한데 뭔가 향이나 끝맛이 다르다구 해야할까요! 어쨌든 살까말까 고민하신다면 가성비도 괜찮으니 한번쯤 사보시는거도 추천드립니당\n",
      "</div>]\n"
     ]
    },
    {
     "data": {
      "text/plain": [
       "bs4.element.ResultSet"
      ]
     },
     "execution_count": 10,
     "metadata": {},
     "output_type": "execute_result"
    }
   ],
   "source": [
    "# 얘는 리스트가 아니다\n",
    "# 리스트로 만들어줘야 위에서 쓸 수 있다.\n",
    "\n",
    "# Type: bs4.element.Tag\n",
    "# 제품명, 상세 리뷰가 같이 있다.\n",
    "# prod_name = soup.select('.inner_review')\n",
    "# review_detail = soup.select('.inner_review').text.split('\\n\\n\\n\\n')\n",
    "\n",
    "review_detail = soup.select('.inner_review')\n",
    "\n",
    "print(review_detail)\n",
    "type(review_detail)"
   ]
  },
  {
   "cell_type": "code",
   "execution_count": 333,
   "metadata": {},
   "outputs": [
    {
     "data": {
      "text/plain": [
       "['\\n\\n[퀘스크렘] 블루치즈 크림치즈', '이것만 먹으면 꼬릿한데 꿀 넣으면 존맛탱\\n']"
      ]
     },
     "execution_count": 333,
     "metadata": {},
     "output_type": "execute_result"
    }
   ],
   "source": [
    "review_detail_1dim = review_detail.pop(0)\n",
    "\n",
    "review_detail_1dim"
   ]
  },
  {
   "cell_type": "code",
   "execution_count": 304,
   "metadata": {},
   "outputs": [
    {
     "data": {
      "text/plain": [
       "['\\n\\n[퀘스크렘] 블루치즈 크림치즈',\n",
       " '진한 크림치즈를 먹고 싶다면추천\\n부드럽게 발리지는 않네요\\n그냥 얹어놓다시피 해서 먹어야해요\\n']"
      ]
     },
     "execution_count": 304,
     "metadata": {},
     "output_type": "execute_result"
    }
   ],
   "source": [
    "review_detail.pop(2)"
   ]
  },
  {
   "cell_type": "code",
   "execution_count": 11,
   "metadata": {},
   "outputs": [
    {
     "data": {
      "text/plain": [
       "[<td class=\"time\">2020-10-25</td>,\n",
       " <td class=\"time\">2020-10-25</td>,\n",
       " <td class=\"time\">2020-10-24</td>,\n",
       " <td class=\"time\">2020-10-24</td>,\n",
       " <td class=\"time\">2020-10-24</td>,\n",
       " <td class=\"time\">2020-10-24</td>,\n",
       " <td class=\"time\">2020-10-23</td>]"
      ]
     },
     "execution_count": 11,
     "metadata": {},
     "output_type": "execute_result"
    }
   ],
   "source": [
    "#리뷰 작성일\n",
    "review_time = soup.select('.time')\n",
    "\n",
    "review_time"
   ]
  },
  {
   "cell_type": "code",
   "execution_count": 21,
   "metadata": {},
   "outputs": [
    {
     "data": {
      "text/plain": [
       "[<div class=\"fst\">좋아요 <img alt=\"이미지가 첨부됨\" src=\"https://res.kurly.com/pc/ico/1910/ico_attach2.gif\"/></div>,\n",
       " <div class=\"fst\">꿀이랑 너무 잘 어울림 </div>,\n",
       " <div class=\"fst\">맛있어요 </div>,\n",
       " <div class=\"fst\">제대로 치즈 </div>,\n",
       " <div class=\"fst\">크림치즈 </div>,\n",
       " <div class=\"fst\">연어베이글을 위해 <img alt=\"이미지가 첨부됨\" src=\"https://res.kurly.com/pc/ico/1910/ico_attach2.gif\"/></div>,\n",
       " <div class=\"fst\">블루치즈는 처음인데 </div>]"
      ]
     },
     "execution_count": 21,
     "metadata": {},
     "output_type": "execute_result"
    }
   ],
   "source": [
    "# 리뷰 제목\n",
    "review_title = soup.select('.fst')\n",
    "\n",
    "review_title"
   ]
  },
  {
   "cell_type": "code",
   "execution_count": 20,
   "metadata": {},
   "outputs": [
    {
     "data": {
      "text/plain": [
       "[None, '꿀이랑 너무 잘 어울림 ', '맛있어요 ', '제대로 치즈 ', '크림치즈 ', None, '블루치즈는 처음인데 ']"
      ]
     },
     "execution_count": 20,
     "metadata": {},
     "output_type": "execute_result"
    }
   ],
   "source": [
    "# 리뷰 제목 2\n",
    "# 리뷰에 이미지가 들어간 제목은 \"\"로 감싸져서 None으로 나온다(좋아요, \"좋아요\") \n",
    "review_all_title = soup.find_all('div', 'fst')\n",
    "\n",
    "review_title = [soup.find_all('div', 'fst')[n].string for n in range(0, len(review_all_title))]\n",
    "\n",
    "\n",
    "review_title"
   ]
  },
  {
   "cell_type": "code",
   "execution_count": 13,
   "metadata": {},
   "outputs": [
    {
     "data": {
      "text/plain": [
       "[<span class=\"review-hit-cnt\" data-sno=\"18300508\">3</span>,\n",
       " <span class=\"review-hit-cnt\" data-sno=\"18268182\">1</span>,\n",
       " <span class=\"review-hit-cnt\" data-sno=\"18264661\">1</span>,\n",
       " <span class=\"review-hit-cnt\" data-sno=\"18263727\">1</span>,\n",
       " <span class=\"review-hit-cnt\" data-sno=\"18247566\">0</span>,\n",
       " <span class=\"review-hit-cnt\" data-sno=\"18241216\">1</span>,\n",
       " <span class=\"review-hit-cnt\" data-sno=\"18217518\">2</span>]"
      ]
     },
     "execution_count": 13,
     "metadata": {},
     "output_type": "execute_result"
    }
   ],
   "source": [
    "# 조회수\n",
    "review_views = soup.select('.review-hit-cnt')\n",
    "\n",
    "review_views"
   ]
  },
  {
   "cell_type": "code",
   "execution_count": 301,
   "metadata": {},
   "outputs": [
    {
     "data": {
      "text/plain": [
       "bs4.element.ResultSet"
      ]
     },
     "execution_count": 301,
     "metadata": {},
     "output_type": "execute_result"
    }
   ],
   "source": [
    "review_views[i].text.split('<span')\n",
    "\n",
    "type(review_views)"
   ]
  },
  {
   "cell_type": "code",
   "execution_count": 22,
   "metadata": {
    "scrolled": true
   },
   "outputs": [
    {
     "data": {
      "text/plain": [
       "[[['좋아요 '], ['2020-10-25'], ['3']],\n",
       " [['꿀이랑 너무 잘 어울림 '], ['2020-10-25'], ['1']],\n",
       " [['맛있어요 '], ['2020-10-24'], ['1']],\n",
       " [['제대로 치즈 '], ['2020-10-24'], ['1']],\n",
       " [['크림치즈 '], ['2020-10-24'], ['0']],\n",
       " [['연어베이글을 위해 '], ['2020-10-24'], ['1']],\n",
       " [['블루치즈는 처음인데 '], ['2020-10-23'], ['2']]]"
      ]
     },
     "execution_count": 22,
     "metadata": {},
     "output_type": "execute_result"
    }
   ],
   "source": [
    "review_list = []\n",
    "\n",
    "\n",
    "for i in range(0, len(target_tag)):\n",
    "    review_row = []\n",
    "    review_row.append(review_title[i].text.split('<div class=\"fst\">'))\n",
    "    \n",
    "    #review_row.append(review_detail[])\n",
    "    \n",
    "    review_row.append(review_time[i].text.split('<td class=\"time\">'))\n",
    "    review_row.append(review_views[i].text.split('<span'))\n",
    "    \n",
    "    review_list.append(review_row)\n",
    "    \n",
    "review_list"
   ]
  },
  {
   "cell_type": "code",
   "execution_count": 285,
   "metadata": {},
   "outputs": [],
   "source": [
    "# 수업때는 텍스트를 보냈지만 기능 보내는 것도 상관없다고 하심\n",
    "# Flask 서버로 파이썬 컨트롤러와 스프링 컨트롤러가 통신할 수 있고\n",
    "# 텍스트를 받던지 기능을 받던지는 문제가 되지 않는다.\n",
    "\n",
    "# csv download(검색용 주석)\n",
    "# csv(comma-separated values) 파일 다운로드하기\n",
    "\n",
    "import csv\n",
    "\n",
    "vid_csv_file = open(\"/home/bitai/WDOP/proj_my/test_Wandoo_2/crawling_driver/cheese2pic.csv\", \"w\", newline=\"\")\n",
    "vid_csv_writer = csv.writer(vid_csv_file)\n",
    "\n",
    "# youtube_video_list(크롤링 데이터)를 vs_row에 넣고 돌린다.\n",
    "# writerow 메소드로 vs_row를 csv 파일에 한줄씩 반복해서 넣는다.\n",
    "for vs_row in review_list:\n",
    "    vid_csv_writer.writerow(vs_row)\n",
    "    \n",
    "vid_csv_file.close()"
   ]
  },
  {
   "cell_type": "code",
   "execution_count": 207,
   "metadata": {},
   "outputs": [
    {
     "data": {
      "text/plain": [
       "list"
      ]
     },
     "execution_count": 207,
     "metadata": {},
     "output_type": "execute_result"
    }
   ],
   "source": [
    "# str -> list 만들기(spit 함수)\n",
    "# type 체크할 때 a로 확인하면 str로 나옴\n",
    "# b로 변수 따로 만들어서 해야 list가 나온다.\n",
    "a = \"kim\"\n",
    "\n",
    "b = a.split('쉙')\n",
    "type(b)"
   ]
  },
  {
   "cell_type": "code",
   "execution_count": 151,
   "metadata": {},
   "outputs": [
    {
     "data": {
      "text/plain": [
       "<div class=\"inner_review\">\n",
       "<div class=\"name_purchase\">\n",
       "<strong class=\"name\">[퀘스크렘] 블루치즈 크림치즈</strong>\n",
       "<p class=\"package\"></p>\n",
       "</div>\n",
       "<div class=\"review_photo\"></div>\n",
       "이것만 먹으면 꼬릿한데 꿀 넣으면 존맛탱\n",
       "</div>"
      ]
     },
     "execution_count": 151,
     "metadata": {},
     "output_type": "execute_result"
    }
   ],
   "source": [
    "soup.select('.inner_review')[1]"
   ]
  },
  {
   "cell_type": "code",
   "execution_count": 132,
   "metadata": {},
   "outputs": [
    {
     "data": {
      "text/plain": [
       "[['\\n'], ['\\n'], ['\\n'], ['많'], ['이']]"
      ]
     },
     "execution_count": 132,
     "metadata": {},
     "output_type": "execute_result"
    }
   ],
   "source": [
    "review_list = []\n",
    "\n",
    "for i in range(0, len(target_tag)):\n",
    "    review_row = []\n",
    "    \n",
    "    review_row.append(text[i])\n",
    "    \n",
    "    review_list.append(review_row)\n",
    "    \n",
    "review_list\n"
   ]
  },
  {
   "cell_type": "code",
   "execution_count": 15,
   "metadata": {
    "scrolled": true
   },
   "outputs": [
    {
     "name": "stdout",
     "output_type": "stream",
     "text": [
      "[<div class=\"inner_review\">\n",
      "<div class=\"name_purchase\">\n",
      "<strong class=\"name\">[퀘스크렘] 블루치즈 크림치즈</strong>\n",
      "<p class=\"package\"></p>\n",
      "</div>\n",
      "<div class=\"review_photo\"></div>\n",
      "많이 꼬릿꼬릿(?)하진 않아요~적당히 즐길수 있는 불루 치즈 맛입니다~~^^\n",
      "</div>, <div class=\"inner_review\">\n",
      "<div class=\"name_purchase\">\n",
      "<strong class=\"name\">[퀘스크렘] 블루치즈 크림치즈</strong>\n",
      "<p class=\"package\"></p>\n",
      "</div>\n",
      "<div class=\"review_photo\"></div>\n",
      "이것만 먹으면 꼬릿한데 꿀 넣으면 존맛탱\n",
      "</div>, <div class=\"inner_review\">\n",
      "<div class=\"name_purchase\">\n",
      "<strong class=\"name\">[퀘스크렘] 블루치즈 크림치즈</strong>\n",
      "<p class=\"package\"></p>\n",
      "</div>\n",
      "<div class=\"review_photo\"></div>\n",
      "계속 재구매할것같아요\n",
      "</div>, <div class=\"inner_review\">\n",
      "<div class=\"name_purchase\">\n",
      "<strong class=\"name\">[퀘스크렘] 블루치즈 크림치즈</strong>\n",
      "<p class=\"package\"></p>\n",
      "</div>\n",
      "<div class=\"review_photo\"></div>\n",
      "진한 크림치즈를 먹고 싶다면추천<br/>\n",
      "부드럽게 발리지는 않네요<br/>\n",
      "그냥 얹어놓다시피 해서 먹어야해요\n",
      "</div>, <div class=\"inner_review\">\n",
      "<div class=\"name_purchase\">\n",
      "<strong class=\"name\">[퀘스크렘] 블루치즈 크림치즈</strong>\n",
      "<p class=\"package\"></p>\n",
      "</div>\n",
      "<div class=\"review_photo\"></div>\n",
      "꾸덕하니 정말 맛있어요 초딩입맛에도 잘 맞나봐요\n",
      "</div>, <div class=\"inner_review\">\n",
      "<div class=\"name_purchase\">\n",
      "<strong class=\"name\">[퀘스크렘] 블루치즈 크림치즈</strong>\n",
      "<p class=\"package\"></p>\n",
      "</div>\n",
      "<div class=\"review_photo\"></div>\n",
      "크림치즈 구입 했어요\n",
      "</div>, <div class=\"inner_review\">\n",
      "<div class=\"name_purchase\">\n",
      "<strong class=\"name\">[퀘스크렘] 블루치즈 크림치즈</strong>\n",
      "<p class=\"package\"></p>\n",
      "</div>\n",
      "<div class=\"review_photo\"></div>\n",
      "블루치즈는 처음 먹어보는데 특유의 콤콤한 맛이 참 맛있네요. 제 취향입니다. 그렇다고 블루치즈 맛이 엄청 강한건 아니구 크림치즈 맛이긴 한데 뭔가 향이나 끝맛이 다르다구 해야할까요! 어쨌든 살까말까 고민하신다면 가성비도 괜찮으니 한번쯤 사보시는거도 추천드립니당\n",
      "</div>]\n"
     ]
    }
   ],
   "source": [
    "# 최종 리스트 뽑기\n",
    "\n",
    "import time\n",
    "import random\n",
    "\n",
    "soup = BeautifulSoup(page, 'html.parser')\n",
    "target_tag = soup.select('.inner_review')\n",
    "\n",
    "target_text_without_child_tags = [\n",
    "    bs_object\n",
    "    for bs_object\n",
    "    in target_tag\n",
    "    if isinstance(bs_object, NavigableString)\n",
    "]\n",
    "text = \"\".join(target_text_without_child_tags)\n",
    "\n",
    "reviews = [soup.select('.inner_review')[n] for n in range(0, len(target_tag))]\n",
    "\n",
    "# 1~5초 사이 랜덤한 시간으로 휴식 후 데이터 긁어옴\n",
    "time.sleep(random.uniform(1, 1.2))\n",
    "\n",
    "print(reviews)"
   ]
  },
  {
   "cell_type": "code",
   "execution_count": 113,
   "metadata": {},
   "outputs": [
    {
     "ename": "SyntaxError",
     "evalue": "invalid syntax (<ipython-input-113-fd4ba77e25c9>, line 9)",
     "output_type": "error",
     "traceback": [
      "\u001b[0;36m  File \u001b[0;32m\"<ipython-input-113-fd4ba77e25c9>\"\u001b[0;36m, line \u001b[0;32m9\u001b[0m\n\u001b[0;31m    for reviews in target_text_without_child_tags = [\u001b[0m\n\u001b[0m                                                  ^\u001b[0m\n\u001b[0;31mSyntaxError\u001b[0m\u001b[0;31m:\u001b[0m invalid syntax\n"
     ]
    }
   ],
   "source": [
    "# 최종 리스트 뽑기\n",
    "\n",
    "import time\n",
    "import random\n",
    "\n",
    "soup = BeautifulSoup(page, 'html.parser')\n",
    "target_tag = soup.select('.inner_review')\n",
    "\n",
    "for reviews in target_text_without_child_tags = [\n",
    "    bs_object\n",
    "    for bs_object\n",
    "    in target_tag\n",
    "    if isinstance(bs_object, NavigableString)\n",
    "]\n",
    "# review = \"\".join(target_text_without_child_tags)\n",
    "\n",
    "# reviews = [text[n] for n in range(0, len(target_tag))]\n",
    "\n",
    "# 1~5초 사이 랜덤한 시간으로 휴식 후 데이터 긁어옴\n",
    "time.sleep(random.uniform(1, 1.2))\n",
    "\n",
    "print(len(reviews))\n",
    "print(reviews)\n",
    "#print(review)\n",
    "#print(len(target_tag))\n",
    "#print(len(target_text_without_child_tags))\n",
    "#print(target_text_without_child_tags)\n",
    "\n"
   ]
  },
  {
   "cell_type": "code",
   "execution_count": 92,
   "metadata": {},
   "outputs": [
    {
     "ename": "IndexError",
     "evalue": "list index out of range",
     "output_type": "error",
     "traceback": [
      "\u001b[0;31m---------------------------------------------------------------------------\u001b[0m",
      "\u001b[0;31mIndexError\u001b[0m                                Traceback (most recent call last)",
      "\u001b[0;32m<ipython-input-92-4236d4834fe6>\u001b[0m in \u001b[0;36m<module>\u001b[0;34m\u001b[0m\n\u001b[1;32m     14\u001b[0m ]\n\u001b[1;32m     15\u001b[0m \u001b[0;34m\u001b[0m\u001b[0m\n\u001b[0;32m---> 16\u001b[0;31m \u001b[0;32mfor\u001b[0m \u001b[0mwandoo\u001b[0m \u001b[0;32min\u001b[0m \u001b[0mtarget_text_without_child_tags\u001b[0m\u001b[0;34m[\u001b[0m\u001b[0;36m0\u001b[0m\u001b[0;34m]\u001b[0m\u001b[0;34m:\u001b[0m\u001b[0;34m\u001b[0m\u001b[0;34m\u001b[0m\u001b[0m\n\u001b[0m\u001b[1;32m     17\u001b[0m     \u001b[0mprint\u001b[0m\u001b[0;34m(\u001b[0m\u001b[0mwandoo\u001b[0m\u001b[0;34m)\u001b[0m\u001b[0;34m\u001b[0m\u001b[0;34m\u001b[0m\u001b[0m\n\u001b[1;32m     18\u001b[0m \u001b[0;34m\u001b[0m\u001b[0m\n",
      "\u001b[0;31mIndexError\u001b[0m: list index out of range"
     ]
    }
   ],
   "source": [
    "# 최종 리스트 뽑기 - 2\n",
    "\n",
    "import time\n",
    "import random\n",
    "\n",
    "soup = BeautifulSoup(page, 'html.parser')\n",
    "target_tag = soup.select('.inner_review')\n",
    "\n",
    "target_text_without_child_tags = [\n",
    "    bs_object\n",
    "    for bs_object\n",
    "    in target_tag\n",
    "    if isinstance(bs_object, NavigableString)\n",
    "]\n",
    "\n",
    "for wandoo in target_text_without_child_tags[0]:\n",
    "    print(wandoo)\n",
    "\n",
    "# text = target_text_without_child_tags\n",
    "\n",
    "# reviews = [target_text_without_child_tags[n] for n in range(0, len(target_tag))]\n",
    "\n",
    "# 1~5초 사이 랜덤한 시간으로 휴식 후 데이터 긁어옴\n",
    "time.sleep(random.uniform(1, 1.2))\n",
    "\n",
    "# print(len(target_tag)) -> 7\n",
    "# print(len(target_text_without_child_tags)) -> 0\n"
   ]
  },
  {
   "cell_type": "code",
   "execution_count": 143,
   "metadata": {},
   "outputs": [
    {
     "name": "stdout",
     "output_type": "stream",
     "text": [
      "pl\n",
      "na\n"
     ]
    }
   ],
   "source": [
    "a = 'apple'\n",
    "b = 'banana'\n",
    "\n",
    "print(a[2:4])\n",
    "print(b[2:4])"
   ]
  },
  {
   "cell_type": "code",
   "execution_count": 150,
   "metadata": {},
   "outputs": [
    {
     "name": "stdout",
     "output_type": "stream",
     "text": [
      "6\n",
      "13\n",
      "19\n"
     ]
    }
   ],
   "source": [
    "import re\n",
    "\n",
    "str1 = 'hello world! world world'\n",
    "str2 = 'world'\n",
    "    \n",
    "for a in re.finditer(str2, str1) :\n",
    "    print(a.start())"
   ]
  },
  {
   "cell_type": "code",
   "execution_count": 140,
   "metadata": {},
   "outputs": [
    {
     "data": {
      "text/plain": [
       "[<div class=\"review_photo\"></div>,\n",
       " <div class=\"review_photo\"></div>,\n",
       " <div class=\"review_photo\"></div>,\n",
       " <div class=\"review_photo\"></div>,\n",
       " <div class=\"review_photo\"></div>,\n",
       " <div class=\"review_photo\"></div>,\n",
       " <div class=\"review_photo\"></div>]"
      ]
     },
     "execution_count": 140,
     "metadata": {},
     "output_type": "execute_result"
    }
   ],
   "source": [
    "# 치즈 구매후기 제목 추출 - 상세 후기\n",
    "\n",
    "from bs4 import BeautifulSoup\n",
    "\n",
    "# html = driver.page_source\n",
    "\n",
    "soup = BeautifulSoup(page,'lxml')\n",
    "\n",
    "all_review_detail = soup.find_all('div', 'review_photo')\n",
    "\n",
    "\n",
    "review_detail = soup.find_all('div', 'review_photo')\n",
    "\n",
    "sleep(1.53)\n",
    "\n",
    "\n",
    "#total = len(all_review_title)\n",
    "# print(total)\n",
    "review_detail\n",
    "\n",
    "# type(title) # type: list\n",
    "#title\n"
   ]
  },
  {
   "cell_type": "code",
   "execution_count": null,
   "metadata": {},
   "outputs": [],
   "source": [
    "import time\n",
    "import random\n",
    "\n",
    "# 1~5초 사이 랜덤한 시간으로 휴식 후 데이터 긁어옴\n",
    "time.sleep(random.uniform(1, 5))\n",
    "\n",
    "# print 넣은 값과 그냥 뿌린 값의 출력모양이 다르다(수평, 수직)\n",
    "print(video_time)\n",
    "print(\"=============================================================\")\n",
    "video_time"
   ]
  },
  {
   "cell_type": "code",
   "execution_count": 188,
   "metadata": {
    "scrolled": true
   },
   "outputs": [
    {
     "ename": "WebDriverException",
     "evalue": "Message: chrome not reachable\n  (Session info: chrome=85.0.4183.121)\n",
     "output_type": "error",
     "traceback": [
      "\u001b[0;31m---------------------------------------------------------------------------\u001b[0m",
      "\u001b[0;31mWebDriverException\u001b[0m                        Traceback (most recent call last)",
      "\u001b[0;32m<ipython-input-188-039cdfe689db>\u001b[0m in \u001b[0;36m<module>\u001b[0;34m\u001b[0m\n\u001b[1;32m     11\u001b[0m \u001b[0;31m# 리뷰 상세내용\u001b[0m\u001b[0;34m\u001b[0m\u001b[0;34m\u001b[0m\u001b[0;34m\u001b[0m\u001b[0m\n\u001b[1;32m     12\u001b[0m \u001b[0;31m# review_detail = soup.find_all('div', 'inner_review')\u001b[0m\u001b[0;34m\u001b[0m\u001b[0;34m\u001b[0m\u001b[0;34m\u001b[0m\u001b[0m\n\u001b[0;32m---> 13\u001b[0;31m \u001b[0mreview_detail\u001b[0m \u001b[0;34m=\u001b[0m \u001b[0mdriver\u001b[0m\u001b[0;34m.\u001b[0m\u001b[0mfind_element_by_xpath\u001b[0m\u001b[0;34m(\u001b[0m\u001b[0;34m'div[]'\u001b[0m\u001b[0;34m)\u001b[0m\u001b[0;34m\u001b[0m\u001b[0;34m\u001b[0m\u001b[0m\n\u001b[0m\u001b[1;32m     14\u001b[0m \u001b[0;34m\u001b[0m\u001b[0m\n\u001b[1;32m     15\u001b[0m \u001b[0;31m# 리뷰 작성일\u001b[0m\u001b[0;34m\u001b[0m\u001b[0;34m\u001b[0m\u001b[0;34m\u001b[0m\u001b[0m\n",
      "\u001b[0;32m~/anaconda3/lib/python3.7/site-packages/selenium/webdriver/remote/webdriver.py\u001b[0m in \u001b[0;36mfind_element_by_xpath\u001b[0;34m(self, xpath)\u001b[0m\n\u001b[1;32m    392\u001b[0m             \u001b[0melement\u001b[0m \u001b[0;34m=\u001b[0m \u001b[0mdriver\u001b[0m\u001b[0;34m.\u001b[0m\u001b[0mfind_element_by_xpath\u001b[0m\u001b[0;34m(\u001b[0m\u001b[0;34m'//div/td[1]'\u001b[0m\u001b[0;34m)\u001b[0m\u001b[0;34m\u001b[0m\u001b[0;34m\u001b[0m\u001b[0m\n\u001b[1;32m    393\u001b[0m         \"\"\"\n\u001b[0;32m--> 394\u001b[0;31m         \u001b[0;32mreturn\u001b[0m \u001b[0mself\u001b[0m\u001b[0;34m.\u001b[0m\u001b[0mfind_element\u001b[0m\u001b[0;34m(\u001b[0m\u001b[0mby\u001b[0m\u001b[0;34m=\u001b[0m\u001b[0mBy\u001b[0m\u001b[0;34m.\u001b[0m\u001b[0mXPATH\u001b[0m\u001b[0;34m,\u001b[0m \u001b[0mvalue\u001b[0m\u001b[0;34m=\u001b[0m\u001b[0mxpath\u001b[0m\u001b[0;34m)\u001b[0m\u001b[0;34m\u001b[0m\u001b[0;34m\u001b[0m\u001b[0m\n\u001b[0m\u001b[1;32m    395\u001b[0m \u001b[0;34m\u001b[0m\u001b[0m\n\u001b[1;32m    396\u001b[0m     \u001b[0;32mdef\u001b[0m \u001b[0mfind_elements_by_xpath\u001b[0m\u001b[0;34m(\u001b[0m\u001b[0mself\u001b[0m\u001b[0;34m,\u001b[0m \u001b[0mxpath\u001b[0m\u001b[0;34m)\u001b[0m\u001b[0;34m:\u001b[0m\u001b[0;34m\u001b[0m\u001b[0;34m\u001b[0m\u001b[0m\n",
      "\u001b[0;32m~/anaconda3/lib/python3.7/site-packages/selenium/webdriver/remote/webdriver.py\u001b[0m in \u001b[0;36mfind_element\u001b[0;34m(self, by, value)\u001b[0m\n\u001b[1;32m    976\u001b[0m         return self.execute(Command.FIND_ELEMENT, {\n\u001b[1;32m    977\u001b[0m             \u001b[0;34m'using'\u001b[0m\u001b[0;34m:\u001b[0m \u001b[0mby\u001b[0m\u001b[0;34m,\u001b[0m\u001b[0;34m\u001b[0m\u001b[0;34m\u001b[0m\u001b[0m\n\u001b[0;32m--> 978\u001b[0;31m             'value': value})['value']\n\u001b[0m\u001b[1;32m    979\u001b[0m \u001b[0;34m\u001b[0m\u001b[0m\n\u001b[1;32m    980\u001b[0m     \u001b[0;32mdef\u001b[0m \u001b[0mfind_elements\u001b[0m\u001b[0;34m(\u001b[0m\u001b[0mself\u001b[0m\u001b[0;34m,\u001b[0m \u001b[0mby\u001b[0m\u001b[0;34m=\u001b[0m\u001b[0mBy\u001b[0m\u001b[0;34m.\u001b[0m\u001b[0mID\u001b[0m\u001b[0;34m,\u001b[0m \u001b[0mvalue\u001b[0m\u001b[0;34m=\u001b[0m\u001b[0;32mNone\u001b[0m\u001b[0;34m)\u001b[0m\u001b[0;34m:\u001b[0m\u001b[0;34m\u001b[0m\u001b[0;34m\u001b[0m\u001b[0m\n",
      "\u001b[0;32m~/anaconda3/lib/python3.7/site-packages/selenium/webdriver/remote/webdriver.py\u001b[0m in \u001b[0;36mexecute\u001b[0;34m(self, driver_command, params)\u001b[0m\n\u001b[1;32m    319\u001b[0m         \u001b[0mresponse\u001b[0m \u001b[0;34m=\u001b[0m \u001b[0mself\u001b[0m\u001b[0;34m.\u001b[0m\u001b[0mcommand_executor\u001b[0m\u001b[0;34m.\u001b[0m\u001b[0mexecute\u001b[0m\u001b[0;34m(\u001b[0m\u001b[0mdriver_command\u001b[0m\u001b[0;34m,\u001b[0m \u001b[0mparams\u001b[0m\u001b[0;34m)\u001b[0m\u001b[0;34m\u001b[0m\u001b[0;34m\u001b[0m\u001b[0m\n\u001b[1;32m    320\u001b[0m         \u001b[0;32mif\u001b[0m \u001b[0mresponse\u001b[0m\u001b[0;34m:\u001b[0m\u001b[0;34m\u001b[0m\u001b[0;34m\u001b[0m\u001b[0m\n\u001b[0;32m--> 321\u001b[0;31m             \u001b[0mself\u001b[0m\u001b[0;34m.\u001b[0m\u001b[0merror_handler\u001b[0m\u001b[0;34m.\u001b[0m\u001b[0mcheck_response\u001b[0m\u001b[0;34m(\u001b[0m\u001b[0mresponse\u001b[0m\u001b[0;34m)\u001b[0m\u001b[0;34m\u001b[0m\u001b[0;34m\u001b[0m\u001b[0m\n\u001b[0m\u001b[1;32m    322\u001b[0m             response['value'] = self._unwrap_value(\n\u001b[1;32m    323\u001b[0m                 response.get('value', None))\n",
      "\u001b[0;32m~/anaconda3/lib/python3.7/site-packages/selenium/webdriver/remote/errorhandler.py\u001b[0m in \u001b[0;36mcheck_response\u001b[0;34m(self, response)\u001b[0m\n\u001b[1;32m    240\u001b[0m                 \u001b[0malert_text\u001b[0m \u001b[0;34m=\u001b[0m \u001b[0mvalue\u001b[0m\u001b[0;34m[\u001b[0m\u001b[0;34m'alert'\u001b[0m\u001b[0;34m]\u001b[0m\u001b[0;34m.\u001b[0m\u001b[0mget\u001b[0m\u001b[0;34m(\u001b[0m\u001b[0;34m'text'\u001b[0m\u001b[0;34m)\u001b[0m\u001b[0;34m\u001b[0m\u001b[0;34m\u001b[0m\u001b[0m\n\u001b[1;32m    241\u001b[0m             \u001b[0;32mraise\u001b[0m \u001b[0mexception_class\u001b[0m\u001b[0;34m(\u001b[0m\u001b[0mmessage\u001b[0m\u001b[0;34m,\u001b[0m \u001b[0mscreen\u001b[0m\u001b[0;34m,\u001b[0m \u001b[0mstacktrace\u001b[0m\u001b[0;34m,\u001b[0m \u001b[0malert_text\u001b[0m\u001b[0;34m)\u001b[0m\u001b[0;34m\u001b[0m\u001b[0;34m\u001b[0m\u001b[0m\n\u001b[0;32m--> 242\u001b[0;31m         \u001b[0;32mraise\u001b[0m \u001b[0mexception_class\u001b[0m\u001b[0;34m(\u001b[0m\u001b[0mmessage\u001b[0m\u001b[0;34m,\u001b[0m \u001b[0mscreen\u001b[0m\u001b[0;34m,\u001b[0m \u001b[0mstacktrace\u001b[0m\u001b[0;34m)\u001b[0m\u001b[0;34m\u001b[0m\u001b[0;34m\u001b[0m\u001b[0m\n\u001b[0m\u001b[1;32m    243\u001b[0m \u001b[0;34m\u001b[0m\u001b[0m\n\u001b[1;32m    244\u001b[0m     \u001b[0;32mdef\u001b[0m \u001b[0m_value_or_default\u001b[0m\u001b[0;34m(\u001b[0m\u001b[0mself\u001b[0m\u001b[0;34m,\u001b[0m \u001b[0mobj\u001b[0m\u001b[0;34m,\u001b[0m \u001b[0mkey\u001b[0m\u001b[0;34m,\u001b[0m \u001b[0mdefault\u001b[0m\u001b[0;34m)\u001b[0m\u001b[0;34m:\u001b[0m\u001b[0;34m\u001b[0m\u001b[0;34m\u001b[0m\u001b[0m\n",
      "\u001b[0;31mWebDriverException\u001b[0m: Message: chrome not reachable\n  (Session info: chrome=85.0.4183.121)\n"
     ]
    }
   ],
   "source": [
    "import time\n",
    "import random\n",
    "\n",
    "# 리뷰 제품명\n",
    "# review_product = soup.find_all('div', 'test')\n",
    "# review_product = driver.find_elements_by_xpath('/html/body/div/div[1]/div/form/div[4]/div/div[1]/text()')\n",
    "\n",
    "\n",
    "time.sleep(random.uniform(1, 2))\n",
    "\n",
    "# 리뷰 상세내용\n",
    "# review_detail = soup.find_all('div', 'inner_review')\n",
    "review_detail = driver.find_element_by_xpath('div[]')\n",
    "\n",
    "# 리뷰 작성일\n",
    "# review_create_date\n",
    "\n",
    "# 리뷰 조회수\n",
    "# review_views\n",
    "\n",
    "\n",
    "review_product\n",
    "# review_detail\n",
    "# print(review_product)\n",
    "\n",
    "# review_detail\n"
   ]
  },
  {
   "cell_type": "code",
   "execution_count": 129,
   "metadata": {},
   "outputs": [
    {
     "name": "stdout",
     "output_type": "stream",
     "text": [
      "\n"
     ]
    }
   ],
   "source": [
    "print(review_product.text)\n",
    "\n",
    "# 값이 안나옴"
   ]
  },
  {
   "cell_type": "code",
   "execution_count": 34,
   "metadata": {},
   "outputs": [
    {
     "data": {
      "text/plain": [
       "bs4.element.NavigableString"
      ]
     },
     "execution_count": 34,
     "metadata": {},
     "output_type": "execute_result"
    }
   ],
   "source": [
    "type(channel_name)"
   ]
  },
  {
   "cell_type": "code",
   "execution_count": 45,
   "metadata": {},
   "outputs": [
    {
     "data": {
      "text/plain": [
       "44"
      ]
     },
     "execution_count": 45,
     "metadata": {},
     "output_type": "execute_result"
    }
   ],
   "source": [
    "a = 'https://www.youtube.com//watch?v=gkL4WkUqs4s'\n",
    "\n",
    "len(a)"
   ]
  },
  {
   "cell_type": "code",
   "execution_count": 33,
   "metadata": {},
   "outputs": [
    {
     "data": {
      "text/plain": [
       "'applebanana'"
      ]
     },
     "execution_count": 33,
     "metadata": {},
     "output_type": "execute_result"
    }
   ],
   "source": [
    "a = 'apple'\n",
    "b = 'banana'\n",
    "\n",
    "a + b"
   ]
  },
  {
   "cell_type": "code",
   "execution_count": 10,
   "metadata": {},
   "outputs": [
    {
     "data": {
      "text/plain": [
       "'2020/09/25 10:59:18'"
      ]
     },
     "execution_count": 10,
     "metadata": {},
     "output_type": "execute_result"
    }
   ],
   "source": [
    "from time import localtime, strftime\n",
    "\n",
    "# 현재 시간\n",
    "present_datetime = strftime(\"%Y/%m/%d %H:%M:%S\", localtime())\n",
    "\n",
    "present_datetime"
   ]
  },
  {
   "cell_type": "code",
   "execution_count": 67,
   "metadata": {},
   "outputs": [
    {
     "data": {
      "text/plain": [
       "str"
      ]
     },
     "execution_count": 67,
     "metadata": {},
     "output_type": "execute_result"
    }
   ],
   "source": [
    "type(video_link.get('href'))"
   ]
  },
  {
   "cell_type": "code",
   "execution_count": null,
   "metadata": {},
   "outputs": [],
   "source": [
    "for video_link in soup.find_all('a', 'yt-simple-endpoint style-scope ytd-grid-video-renderer'):\n",
    "    \n",
    "    print(\"https://www.youtube.com/\" + video_link.get('href'))"
   ]
  },
  {
   "cell_type": "code",
   "execution_count": 40,
   "metadata": {},
   "outputs": [
    {
     "data": {
      "text/plain": [
       "30"
      ]
     },
     "execution_count": 40,
     "metadata": {},
     "output_type": "execute_result"
    }
   ],
   "source": [
    "len(youtube_video_list)"
   ]
  },
  {
   "cell_type": "code",
   "execution_count": 41,
   "metadata": {},
   "outputs": [
    {
     "data": {
      "text/plain": [
       "list"
      ]
     },
     "execution_count": 41,
     "metadata": {},
     "output_type": "execute_result"
    }
   ],
   "source": [
    "type(youtube_video_list)"
   ]
  },
  {
   "cell_type": "code",
   "execution_count": 13,
   "metadata": {},
   "outputs": [
    {
     "data": {
      "text/plain": [
       "pandas.core.frame.DataFrame"
      ]
     },
     "execution_count": 13,
     "metadata": {},
     "output_type": "execute_result"
    }
   ],
   "source": [
    "type(pd_youtube_video_list)"
   ]
  },
  {
   "cell_type": "code",
   "execution_count": 154,
   "metadata": {},
   "outputs": [
    {
     "name": "stdout",
     "output_type": "stream",
     "text": [
      "번호,제품명,후기 제목,후기 상세,작성일,조회수\r\n",
      "1,[퀘스크렘] 블루치즈 크림치즈,맛있어요,크림치즈는 사랑입니다,2020-10-19,2\r\n",
      "2,[퀘스크렘] 블루치즈 크림치즈,만족합니다.,잘 숙성된 치즈의 향입니다.,2020-10-17,2\r\n",
      "3,[퀘스크렘] 블루치즈 크림치즈,무난,블루치즈 잘 못먹는 분들도 드실 수 있을 것 같아요,2020-10-15,6\r\n",
      "4,[퀘스크렘] 블루치즈 크림치즈,짱짱,재구매 의사 백프로입니다. 달지않고 짜지도 않은 데일리로 즐기기 좋은 깊이감있는 맛의 크림치즈입니다!,2020-10-15,5\r\n",
      "5,[퀘스크렘] 블루치즈 크림치즈,베이글에,발라 먹어보려구요 ㅎㅎ,2020-10-15,17\r\n",
      "6,[퀘스크렘] 블루치즈 크림치즈,굿,생각보다 안큠쿰해요^^,2020-10-15,6\r\n",
      "7,[퀘스크렘] 블루치즈 크림치즈,재구매,블루치즈향 심하지않아요. 너무 맛있어요,2020-10-14,20\r\n",
      "8,[퀘스크렘] 블루치즈 크림치즈,진한 크림치즈,컬리에서 산 픽어베이글 + 아보카도랑 같이 먹었어요  블루치즈 크림치즈 엄청 꾸덕하고 맛있어요 최고,2020-10-13,17\r\n",
      "9,[퀘스크렘] 블루치즈 크림치즈,맛있어요,향도진하고 바게뜨에발라 먹으니 맛있네요,2020-10-13,7\r\n"
     ]
    }
   ],
   "source": [
    "!head /home/bitai/Documents/EMP_Team/DataSet/치즈_리뷰_마켓컬리.csv"
   ]
  },
  {
   "cell_type": "code",
   "execution_count": 171,
   "metadata": {},
   "outputs": [],
   "source": [
    "import pandas as pd\n",
    "\n",
    "cheese_data_frame = pd.read_csv(\n",
    "    '/home/bitai/Documents/EMP_Team/DataSet/치즈_리뷰_마켓컬리.csv',\n",
    "    sep=','\n",
    ")"
   ]
  },
  {
   "cell_type": "code",
   "execution_count": 172,
   "metadata": {},
   "outputs": [
    {
     "data": {
      "text/html": [
       "<div>\n",
       "<style scoped>\n",
       "    .dataframe tbody tr th:only-of-type {\n",
       "        vertical-align: middle;\n",
       "    }\n",
       "\n",
       "    .dataframe tbody tr th {\n",
       "        vertical-align: top;\n",
       "    }\n",
       "\n",
       "    .dataframe thead th {\n",
       "        text-align: right;\n",
       "    }\n",
       "</style>\n",
       "<table border=\"1\" class=\"dataframe\">\n",
       "  <thead>\n",
       "    <tr style=\"text-align: right;\">\n",
       "      <th></th>\n",
       "      <th>번호</th>\n",
       "      <th>제품명</th>\n",
       "      <th>후기 제목</th>\n",
       "      <th>후기 상세</th>\n",
       "      <th>작성일</th>\n",
       "      <th>조회수</th>\n",
       "    </tr>\n",
       "  </thead>\n",
       "  <tbody>\n",
       "    <tr>\n",
       "      <th>0</th>\n",
       "      <td>1</td>\n",
       "      <td>[퀘스크렘] 블루치즈 크림치즈</td>\n",
       "      <td>맛있어요</td>\n",
       "      <td>크림치즈는 사랑입니다</td>\n",
       "      <td>2020-10-19</td>\n",
       "      <td>2.0</td>\n",
       "    </tr>\n",
       "    <tr>\n",
       "      <th>1</th>\n",
       "      <td>2</td>\n",
       "      <td>[퀘스크렘] 블루치즈 크림치즈</td>\n",
       "      <td>만족합니다.</td>\n",
       "      <td>잘 숙성된 치즈의 향입니다.</td>\n",
       "      <td>2020-10-17</td>\n",
       "      <td>2.0</td>\n",
       "    </tr>\n",
       "    <tr>\n",
       "      <th>2</th>\n",
       "      <td>3</td>\n",
       "      <td>[퀘스크렘] 블루치즈 크림치즈</td>\n",
       "      <td>무난</td>\n",
       "      <td>블루치즈 잘 못먹는 분들도 드실 수 있을 것 같아요</td>\n",
       "      <td>2020-10-15</td>\n",
       "      <td>6.0</td>\n",
       "    </tr>\n",
       "    <tr>\n",
       "      <th>3</th>\n",
       "      <td>4</td>\n",
       "      <td>[퀘스크렘] 블루치즈 크림치즈</td>\n",
       "      <td>짱짱</td>\n",
       "      <td>재구매 의사 백프로입니다. 달지않고 짜지도 않은 데일리로 즐기기 좋은 깊이감있는 맛...</td>\n",
       "      <td>2020-10-15</td>\n",
       "      <td>5.0</td>\n",
       "    </tr>\n",
       "    <tr>\n",
       "      <th>4</th>\n",
       "      <td>5</td>\n",
       "      <td>[퀘스크렘] 블루치즈 크림치즈</td>\n",
       "      <td>베이글에</td>\n",
       "      <td>발라 먹어보려구요 ㅎㅎ</td>\n",
       "      <td>2020-10-15</td>\n",
       "      <td>17.0</td>\n",
       "    </tr>\n",
       "    <tr>\n",
       "      <th>...</th>\n",
       "      <td>...</td>\n",
       "      <td>...</td>\n",
       "      <td>...</td>\n",
       "      <td>...</td>\n",
       "      <td>...</td>\n",
       "      <td>...</td>\n",
       "    </tr>\n",
       "    <tr>\n",
       "      <th>140</th>\n",
       "      <td>141</td>\n",
       "      <td>[포인트 레이스] 오리지널 블루</td>\n",
       "      <td>좋아요</td>\n",
       "      <td>아빠가 항상 두고 드시는 블루치즈! 컬리에서 파는 프랑스,미국 블루치즈 둘다 보내드...</td>\n",
       "      <td>2020-08-23</td>\n",
       "      <td>10.0</td>\n",
       "    </tr>\n",
       "    <tr>\n",
       "      <th>141</th>\n",
       "      <td>142</td>\n",
       "      <td>[포인트 레이스] 오리지널 블루</td>\n",
       "      <td>블루</td>\n",
       "      <td>오리지널 블루치즈 쪼아요</td>\n",
       "      <td>2020-08-04</td>\n",
       "      <td>18.0</td>\n",
       "    </tr>\n",
       "    <tr>\n",
       "      <th>142</th>\n",
       "      <td>143</td>\n",
       "      <td>[포인트 레이스] 오리지널 블루</td>\n",
       "      <td>입이 즐거운</td>\n",
       "      <td>블루치즈 진하고 풍미가 있어 맛있게 잘먹었어요~!</td>\n",
       "      <td>2020-08-04</td>\n",
       "      <td>42.0</td>\n",
       "    </tr>\n",
       "    <tr>\n",
       "      <th>143</th>\n",
       "      <td>144</td>\n",
       "      <td>[포인트 레이스] 오리지널 블루</td>\n",
       "      <td>샐러드에 빵에</td>\n",
       "      <td>포인트로 조금씩 얹어 먹어요</td>\n",
       "      <td>2020-08-02</td>\n",
       "      <td>41.0</td>\n",
       "    </tr>\n",
       "    <tr>\n",
       "      <th>144</th>\n",
       "      <td>145</td>\n",
       "      <td>[포인트 레이스] 오리지널 블루</td>\n",
       "      <td>꼬릿</td>\n",
       "      <td>꼬잇한 향에 익숙치 않으시다면 비추지만 찐한 레드와인에는 강추입니다</td>\n",
       "      <td>2020-07-30</td>\n",
       "      <td>30.0</td>\n",
       "    </tr>\n",
       "  </tbody>\n",
       "</table>\n",
       "<p>145 rows × 6 columns</p>\n",
       "</div>"
      ],
      "text/plain": [
       "      번호                제품명    후기 제목  \\\n",
       "0      1   [퀘스크렘] 블루치즈 크림치즈     맛있어요   \n",
       "1      2   [퀘스크렘] 블루치즈 크림치즈   만족합니다.   \n",
       "2      3   [퀘스크렘] 블루치즈 크림치즈       무난   \n",
       "3      4   [퀘스크렘] 블루치즈 크림치즈       짱짱   \n",
       "4      5   [퀘스크렘] 블루치즈 크림치즈     베이글에   \n",
       "..   ...                ...      ...   \n",
       "140  141  [포인트 레이스] 오리지널 블루      좋아요   \n",
       "141  142  [포인트 레이스] 오리지널 블루       블루   \n",
       "142  143  [포인트 레이스] 오리지널 블루   입이 즐거운   \n",
       "143  144  [포인트 레이스] 오리지널 블루  샐러드에 빵에   \n",
       "144  145  [포인트 레이스] 오리지널 블루      꼬릿    \n",
       "\n",
       "                                                 후기 상세         작성일   조회수  \n",
       "0                                          크림치즈는 사랑입니다  2020-10-19   2.0  \n",
       "1                                      잘 숙성된 치즈의 향입니다.  2020-10-17   2.0  \n",
       "2                         블루치즈 잘 못먹는 분들도 드실 수 있을 것 같아요  2020-10-15   6.0  \n",
       "3    재구매 의사 백프로입니다. 달지않고 짜지도 않은 데일리로 즐기기 좋은 깊이감있는 맛...  2020-10-15   5.0  \n",
       "4                                         발라 먹어보려구요 ㅎㅎ  2020-10-15  17.0  \n",
       "..                                                 ...         ...   ...  \n",
       "140  아빠가 항상 두고 드시는 블루치즈! 컬리에서 파는 프랑스,미국 블루치즈 둘다 보내드...  2020-08-23  10.0  \n",
       "141                                      오리지널 블루치즈 쪼아요  2020-08-04  18.0  \n",
       "142                        블루치즈 진하고 풍미가 있어 맛있게 잘먹었어요~!  2020-08-04  42.0  \n",
       "143                                    포인트로 조금씩 얹어 먹어요  2020-08-02  41.0  \n",
       "144              꼬잇한 향에 익숙치 않으시다면 비추지만 찐한 레드와인에는 강추입니다  2020-07-30  30.0  \n",
       "\n",
       "[145 rows x 6 columns]"
      ]
     },
     "execution_count": 172,
     "metadata": {},
     "output_type": "execute_result"
    }
   ],
   "source": [
    "cheese_data_frame"
   ]
  },
  {
   "cell_type": "code",
   "execution_count": 159,
   "metadata": {},
   "outputs": [
    {
     "data": {
      "text/html": [
       "<div>\n",
       "<style scoped>\n",
       "    .dataframe tbody tr th:only-of-type {\n",
       "        vertical-align: middle;\n",
       "    }\n",
       "\n",
       "    .dataframe tbody tr th {\n",
       "        vertical-align: top;\n",
       "    }\n",
       "\n",
       "    .dataframe thead th {\n",
       "        text-align: right;\n",
       "    }\n",
       "</style>\n",
       "<table border=\"1\" class=\"dataframe\">\n",
       "  <thead>\n",
       "    <tr style=\"text-align: right;\">\n",
       "      <th></th>\n",
       "      <th>번호</th>\n",
       "      <th>제품명</th>\n",
       "      <th>후기 제목</th>\n",
       "      <th>후기 상세</th>\n",
       "      <th>작성일</th>\n",
       "      <th>조회수</th>\n",
       "    </tr>\n",
       "  </thead>\n",
       "  <tbody>\n",
       "    <tr>\n",
       "      <th>0</th>\n",
       "      <td>1</td>\n",
       "      <td>[퀘스크렘] 블루치즈 크림치즈</td>\n",
       "      <td>맛있어요</td>\n",
       "      <td>크림치즈는 사랑입니다</td>\n",
       "      <td>2020-10-19</td>\n",
       "      <td>2.0</td>\n",
       "    </tr>\n",
       "    <tr>\n",
       "      <th>1</th>\n",
       "      <td>2</td>\n",
       "      <td>[퀘스크렘] 블루치즈 크림치즈</td>\n",
       "      <td>만족합니다.</td>\n",
       "      <td>잘 숙성된 치즈의 향입니다.</td>\n",
       "      <td>2020-10-17</td>\n",
       "      <td>2.0</td>\n",
       "    </tr>\n",
       "    <tr>\n",
       "      <th>2</th>\n",
       "      <td>3</td>\n",
       "      <td>[퀘스크렘] 블루치즈 크림치즈</td>\n",
       "      <td>무난</td>\n",
       "      <td>블루치즈 잘 못먹는 분들도 드실 수 있을 것 같아요</td>\n",
       "      <td>2020-10-15</td>\n",
       "      <td>6.0</td>\n",
       "    </tr>\n",
       "    <tr>\n",
       "      <th>3</th>\n",
       "      <td>4</td>\n",
       "      <td>[퀘스크렘] 블루치즈 크림치즈</td>\n",
       "      <td>짱짱</td>\n",
       "      <td>재구매 의사 백프로입니다. 달지않고 짜지도 않은 데일리로 즐기기 좋은 깊이감있는 맛...</td>\n",
       "      <td>2020-10-15</td>\n",
       "      <td>5.0</td>\n",
       "    </tr>\n",
       "    <tr>\n",
       "      <th>4</th>\n",
       "      <td>5</td>\n",
       "      <td>[퀘스크렘] 블루치즈 크림치즈</td>\n",
       "      <td>베이글에</td>\n",
       "      <td>발라 먹어보려구요 ㅎㅎ</td>\n",
       "      <td>2020-10-15</td>\n",
       "      <td>17.0</td>\n",
       "    </tr>\n",
       "    <tr>\n",
       "      <th>5</th>\n",
       "      <td>6</td>\n",
       "      <td>[퀘스크렘] 블루치즈 크림치즈</td>\n",
       "      <td>굿</td>\n",
       "      <td>생각보다 안큠쿰해요^^</td>\n",
       "      <td>2020-10-15</td>\n",
       "      <td>6.0</td>\n",
       "    </tr>\n",
       "    <tr>\n",
       "      <th>6</th>\n",
       "      <td>7</td>\n",
       "      <td>[퀘스크렘] 블루치즈 크림치즈</td>\n",
       "      <td>재구매</td>\n",
       "      <td>블루치즈향 심하지않아요. 너무 맛있어요</td>\n",
       "      <td>2020-10-14</td>\n",
       "      <td>20.0</td>\n",
       "    </tr>\n",
       "    <tr>\n",
       "      <th>7</th>\n",
       "      <td>8</td>\n",
       "      <td>[퀘스크렘] 블루치즈 크림치즈</td>\n",
       "      <td>진한 크림치즈</td>\n",
       "      <td>컬리에서 산 픽어베이글 + 아보카도랑 같이 먹었어요  블루치즈 크림치즈 엄청 꾸덕하...</td>\n",
       "      <td>2020-10-13</td>\n",
       "      <td>17.0</td>\n",
       "    </tr>\n",
       "    <tr>\n",
       "      <th>8</th>\n",
       "      <td>9</td>\n",
       "      <td>[퀘스크렘] 블루치즈 크림치즈</td>\n",
       "      <td>맛있어요</td>\n",
       "      <td>향도진하고 바게뜨에발라 먹으니 맛있네요</td>\n",
       "      <td>2020-10-13</td>\n",
       "      <td>7.0</td>\n",
       "    </tr>\n",
       "    <tr>\n",
       "      <th>9</th>\n",
       "      <td>10</td>\n",
       "      <td>[퀘스크렘] 블루치즈 크림치즈</td>\n",
       "      <td>맛있어요</td>\n",
       "      <td>정말 맛있어요 계속 먹게되어요</td>\n",
       "      <td>2020-10-10</td>\n",
       "      <td>27.0</td>\n",
       "    </tr>\n",
       "  </tbody>\n",
       "</table>\n",
       "</div>"
      ],
      "text/plain": [
       "   번호               제품명    후기 제목  \\\n",
       "0   1  [퀘스크렘] 블루치즈 크림치즈     맛있어요   \n",
       "1   2  [퀘스크렘] 블루치즈 크림치즈   만족합니다.   \n",
       "2   3  [퀘스크렘] 블루치즈 크림치즈       무난   \n",
       "3   4  [퀘스크렘] 블루치즈 크림치즈       짱짱   \n",
       "4   5  [퀘스크렘] 블루치즈 크림치즈     베이글에   \n",
       "5   6  [퀘스크렘] 블루치즈 크림치즈        굿   \n",
       "6   7  [퀘스크렘] 블루치즈 크림치즈      재구매   \n",
       "7   8  [퀘스크렘] 블루치즈 크림치즈  진한 크림치즈   \n",
       "8   9  [퀘스크렘] 블루치즈 크림치즈     맛있어요   \n",
       "9  10  [퀘스크렘] 블루치즈 크림치즈     맛있어요   \n",
       "\n",
       "                                               후기 상세         작성일   조회수  \n",
       "0                                        크림치즈는 사랑입니다  2020-10-19   2.0  \n",
       "1                                    잘 숙성된 치즈의 향입니다.  2020-10-17   2.0  \n",
       "2                       블루치즈 잘 못먹는 분들도 드실 수 있을 것 같아요  2020-10-15   6.0  \n",
       "3  재구매 의사 백프로입니다. 달지않고 짜지도 않은 데일리로 즐기기 좋은 깊이감있는 맛...  2020-10-15   5.0  \n",
       "4                                       발라 먹어보려구요 ㅎㅎ  2020-10-15  17.0  \n",
       "5                                       생각보다 안큠쿰해요^^  2020-10-15   6.0  \n",
       "6                              블루치즈향 심하지않아요. 너무 맛있어요  2020-10-14  20.0  \n",
       "7  컬리에서 산 픽어베이글 + 아보카도랑 같이 먹었어요  블루치즈 크림치즈 엄청 꾸덕하...  2020-10-13  17.0  \n",
       "8                              향도진하고 바게뜨에발라 먹으니 맛있네요  2020-10-13   7.0  \n",
       "9                                   정말 맛있어요 계속 먹게되어요  2020-10-10  27.0  "
      ]
     },
     "execution_count": 159,
     "metadata": {},
     "output_type": "execute_result"
    }
   ],
   "source": [
    "cheese_data_frame.head(10)"
   ]
  },
  {
   "cell_type": "code",
   "execution_count": 160,
   "metadata": {},
   "outputs": [
    {
     "data": {
      "text/plain": [
       "(145, 6)"
      ]
     },
     "execution_count": 160,
     "metadata": {},
     "output_type": "execute_result"
    }
   ],
   "source": [
    "cheese_data_frame.shape"
   ]
  },
  {
   "cell_type": "code",
   "execution_count": 162,
   "metadata": {},
   "outputs": [
    {
     "data": {
      "text/plain": [
       "번호         int64\n",
       "제품명       object\n",
       "후기 제목     object\n",
       "후기 상세     object\n",
       "작성일       object\n",
       "조회수      float64\n",
       "dtype: object"
      ]
     },
     "execution_count": 162,
     "metadata": {},
     "output_type": "execute_result"
    }
   ],
   "source": [
    "cheese_data_frame.dtypes"
   ]
  },
  {
   "cell_type": "code",
   "execution_count": 164,
   "metadata": {},
   "outputs": [
    {
     "data": {
      "text/plain": [
       "dtype('float64')"
      ]
     },
     "execution_count": 164,
     "metadata": {},
     "output_type": "execute_result"
    }
   ],
   "source": [
    "cheese_data_frame.조회수.dtypes"
   ]
  },
  {
   "cell_type": "code",
   "execution_count": 165,
   "metadata": {},
   "outputs": [],
   "source": [
    "df = pd.DataFrame(cheese_data_frame)"
   ]
  },
  {
   "cell_type": "code",
   "execution_count": 169,
   "metadata": {},
   "outputs": [
    {
     "data": {
      "text/plain": [
       "0       2.0\n",
       "1       2.0\n",
       "2       6.0\n",
       "3       5.0\n",
       "4      17.0\n",
       "       ... \n",
       "140    10.0\n",
       "141    18.0\n",
       "142    42.0\n",
       "143    41.0\n",
       "144    30.0\n",
       "Name: 조회수, Length: 145, dtype: float64"
      ]
     },
     "execution_count": 169,
     "metadata": {},
     "output_type": "execute_result"
    }
   ],
   "source": [
    "pd.to_numeric(df['조회수'], downcast='integer')"
   ]
  },
  {
   "cell_type": "code",
   "execution_count": 170,
   "metadata": {},
   "outputs": [
    {
     "data": {
      "text/plain": [
       "dtype('float64')"
      ]
     },
     "execution_count": 170,
     "metadata": {},
     "output_type": "execute_result"
    }
   ],
   "source": [
    "cheese_data.조회수.dtypes"
   ]
  },
  {
   "cell_type": "code",
   "execution_count": 173,
   "metadata": {},
   "outputs": [
    {
     "data": {
      "text/plain": [
       "번호       0\n",
       "제품명      6\n",
       "후기 제목    6\n",
       "후기 상세    6\n",
       "작성일      6\n",
       "조회수      6\n",
       "dtype: int64"
      ]
     },
     "execution_count": 173,
     "metadata": {},
     "output_type": "execute_result"
    }
   ],
   "source": [
    "# 빈 값(NaN) 조회\n",
    "\n",
    "cheese_data_frame.isnull().sum()"
   ]
  },
  {
   "cell_type": "code",
   "execution_count": 174,
   "metadata": {},
   "outputs": [
    {
     "data": {
      "text/html": [
       "<div>\n",
       "<style scoped>\n",
       "    .dataframe tbody tr th:only-of-type {\n",
       "        vertical-align: middle;\n",
       "    }\n",
       "\n",
       "    .dataframe tbody tr th {\n",
       "        vertical-align: top;\n",
       "    }\n",
       "\n",
       "    .dataframe thead th {\n",
       "        text-align: right;\n",
       "    }\n",
       "</style>\n",
       "<table border=\"1\" class=\"dataframe\">\n",
       "  <thead>\n",
       "    <tr style=\"text-align: right;\">\n",
       "      <th></th>\n",
       "      <th>번호</th>\n",
       "      <th>제품명</th>\n",
       "      <th>후기 제목</th>\n",
       "      <th>후기 상세</th>\n",
       "      <th>작성일</th>\n",
       "      <th>조회수</th>\n",
       "    </tr>\n",
       "  </thead>\n",
       "  <tbody>\n",
       "    <tr>\n",
       "      <th>0</th>\n",
       "      <td>1</td>\n",
       "      <td>[퀘스크렘] 블루치즈 크림치즈</td>\n",
       "      <td>맛있어요</td>\n",
       "      <td>크림치즈는 사랑입니다</td>\n",
       "      <td>2020-10-19</td>\n",
       "      <td>2.0</td>\n",
       "    </tr>\n",
       "    <tr>\n",
       "      <th>1</th>\n",
       "      <td>2</td>\n",
       "      <td>[퀘스크렘] 블루치즈 크림치즈</td>\n",
       "      <td>만족합니다.</td>\n",
       "      <td>잘 숙성된 치즈의 향입니다.</td>\n",
       "      <td>2020-10-17</td>\n",
       "      <td>2.0</td>\n",
       "    </tr>\n",
       "    <tr>\n",
       "      <th>2</th>\n",
       "      <td>3</td>\n",
       "      <td>[퀘스크렘] 블루치즈 크림치즈</td>\n",
       "      <td>무난</td>\n",
       "      <td>블루치즈 잘 못먹는 분들도 드실 수 있을 것 같아요</td>\n",
       "      <td>2020-10-15</td>\n",
       "      <td>6.0</td>\n",
       "    </tr>\n",
       "    <tr>\n",
       "      <th>3</th>\n",
       "      <td>4</td>\n",
       "      <td>[퀘스크렘] 블루치즈 크림치즈</td>\n",
       "      <td>짱짱</td>\n",
       "      <td>재구매 의사 백프로입니다. 달지않고 짜지도 않은 데일리로 즐기기 좋은 깊이감있는 맛...</td>\n",
       "      <td>2020-10-15</td>\n",
       "      <td>5.0</td>\n",
       "    </tr>\n",
       "    <tr>\n",
       "      <th>4</th>\n",
       "      <td>5</td>\n",
       "      <td>[퀘스크렘] 블루치즈 크림치즈</td>\n",
       "      <td>베이글에</td>\n",
       "      <td>발라 먹어보려구요 ㅎㅎ</td>\n",
       "      <td>2020-10-15</td>\n",
       "      <td>17.0</td>\n",
       "    </tr>\n",
       "    <tr>\n",
       "      <th>...</th>\n",
       "      <td>...</td>\n",
       "      <td>...</td>\n",
       "      <td>...</td>\n",
       "      <td>...</td>\n",
       "      <td>...</td>\n",
       "      <td>...</td>\n",
       "    </tr>\n",
       "    <tr>\n",
       "      <th>140</th>\n",
       "      <td>141</td>\n",
       "      <td>[포인트 레이스] 오리지널 블루</td>\n",
       "      <td>좋아요</td>\n",
       "      <td>아빠가 항상 두고 드시는 블루치즈! 컬리에서 파는 프랑스,미국 블루치즈 둘다 보내드...</td>\n",
       "      <td>2020-08-23</td>\n",
       "      <td>10.0</td>\n",
       "    </tr>\n",
       "    <tr>\n",
       "      <th>141</th>\n",
       "      <td>142</td>\n",
       "      <td>[포인트 레이스] 오리지널 블루</td>\n",
       "      <td>블루</td>\n",
       "      <td>오리지널 블루치즈 쪼아요</td>\n",
       "      <td>2020-08-04</td>\n",
       "      <td>18.0</td>\n",
       "    </tr>\n",
       "    <tr>\n",
       "      <th>142</th>\n",
       "      <td>143</td>\n",
       "      <td>[포인트 레이스] 오리지널 블루</td>\n",
       "      <td>입이 즐거운</td>\n",
       "      <td>블루치즈 진하고 풍미가 있어 맛있게 잘먹었어요~!</td>\n",
       "      <td>2020-08-04</td>\n",
       "      <td>42.0</td>\n",
       "    </tr>\n",
       "    <tr>\n",
       "      <th>143</th>\n",
       "      <td>144</td>\n",
       "      <td>[포인트 레이스] 오리지널 블루</td>\n",
       "      <td>샐러드에 빵에</td>\n",
       "      <td>포인트로 조금씩 얹어 먹어요</td>\n",
       "      <td>2020-08-02</td>\n",
       "      <td>41.0</td>\n",
       "    </tr>\n",
       "    <tr>\n",
       "      <th>144</th>\n",
       "      <td>145</td>\n",
       "      <td>[포인트 레이스] 오리지널 블루</td>\n",
       "      <td>꼬릿</td>\n",
       "      <td>꼬잇한 향에 익숙치 않으시다면 비추지만 찐한 레드와인에는 강추입니다</td>\n",
       "      <td>2020-07-30</td>\n",
       "      <td>30.0</td>\n",
       "    </tr>\n",
       "  </tbody>\n",
       "</table>\n",
       "<p>139 rows × 6 columns</p>\n",
       "</div>"
      ],
      "text/plain": [
       "      번호                제품명    후기 제목  \\\n",
       "0      1   [퀘스크렘] 블루치즈 크림치즈     맛있어요   \n",
       "1      2   [퀘스크렘] 블루치즈 크림치즈   만족합니다.   \n",
       "2      3   [퀘스크렘] 블루치즈 크림치즈       무난   \n",
       "3      4   [퀘스크렘] 블루치즈 크림치즈       짱짱   \n",
       "4      5   [퀘스크렘] 블루치즈 크림치즈     베이글에   \n",
       "..   ...                ...      ...   \n",
       "140  141  [포인트 레이스] 오리지널 블루      좋아요   \n",
       "141  142  [포인트 레이스] 오리지널 블루       블루   \n",
       "142  143  [포인트 레이스] 오리지널 블루   입이 즐거운   \n",
       "143  144  [포인트 레이스] 오리지널 블루  샐러드에 빵에   \n",
       "144  145  [포인트 레이스] 오리지널 블루      꼬릿    \n",
       "\n",
       "                                                 후기 상세         작성일   조회수  \n",
       "0                                          크림치즈는 사랑입니다  2020-10-19   2.0  \n",
       "1                                      잘 숙성된 치즈의 향입니다.  2020-10-17   2.0  \n",
       "2                         블루치즈 잘 못먹는 분들도 드실 수 있을 것 같아요  2020-10-15   6.0  \n",
       "3    재구매 의사 백프로입니다. 달지않고 짜지도 않은 데일리로 즐기기 좋은 깊이감있는 맛...  2020-10-15   5.0  \n",
       "4                                         발라 먹어보려구요 ㅎㅎ  2020-10-15  17.0  \n",
       "..                                                 ...         ...   ...  \n",
       "140  아빠가 항상 두고 드시는 블루치즈! 컬리에서 파는 프랑스,미국 블루치즈 둘다 보내드...  2020-08-23  10.0  \n",
       "141                                      오리지널 블루치즈 쪼아요  2020-08-04  18.0  \n",
       "142                        블루치즈 진하고 풍미가 있어 맛있게 잘먹었어요~!  2020-08-04  42.0  \n",
       "143                                    포인트로 조금씩 얹어 먹어요  2020-08-02  41.0  \n",
       "144              꼬잇한 향에 익숙치 않으시다면 비추지만 찐한 레드와인에는 강추입니다  2020-07-30  30.0  \n",
       "\n",
       "[139 rows x 6 columns]"
      ]
     },
     "execution_count": 174,
     "metadata": {},
     "output_type": "execute_result"
    }
   ],
   "source": [
    "# 빈 값(NaN) 제거 후 df 조회, 행이 줄어든 것이 확인된다.\n",
    "cheese_data_frame = cheese_data_frame.dropna()\n",
    "\n",
    "cheese_data_frame"
   ]
  },
  {
   "cell_type": "code",
   "execution_count": 175,
   "metadata": {},
   "outputs": [
    {
     "data": {
      "text/plain": [
       "번호       0\n",
       "제품명      0\n",
       "후기 제목    0\n",
       "후기 상세    0\n",
       "작성일      0\n",
       "조회수      0\n",
       "dtype: int64"
      ]
     },
     "execution_count": 175,
     "metadata": {},
     "output_type": "execute_result"
    }
   ],
   "source": [
    "# 빈 값(NaN) 다시 조회\n",
    "\n",
    "cheese_data_frame.isnull().sum()"
   ]
  },
  {
   "cell_type": "code",
   "execution_count": 178,
   "metadata": {},
   "outputs": [],
   "source": [
    "# csv 파일로 저장하기\n",
    "cheese_data_frame.to_csv('cheese_EMP.csv')"
   ]
  },
  {
   "cell_type": "code",
   "execution_count": 179,
   "metadata": {},
   "outputs": [],
   "source": [
    "# csv 파일 구분자 쉼표(,)로 되있던 것 세미콜론(;)으로 바꾸기\n",
    "with open('cheese_EMP.csv', 'r', encoding='utf-8') as f_in, open(\"cheese_convert_file\", 'w') as f_out:\n",
    "    for line in f_in:\n",
    "        line = line.split(\",\")\n",
    "        line = \";\".join(line)\n",
    "        f_out.write(line)"
   ]
  },
  {
   "cell_type": "code",
   "execution_count": 180,
   "metadata": {},
   "outputs": [],
   "source": [
    "# 번호 컬럼 삭제하기\n",
    "# axis = 1 은 열로 제거, axis = 0은 행으로 제거\n",
    "feats = cheese_data_frame.drop('번호', axis = 1)"
   ]
  },
  {
   "cell_type": "code",
   "execution_count": 182,
   "metadata": {},
   "outputs": [
    {
     "data": {
      "text/html": [
       "<div>\n",
       "<style scoped>\n",
       "    .dataframe tbody tr th:only-of-type {\n",
       "        vertical-align: middle;\n",
       "    }\n",
       "\n",
       "    .dataframe tbody tr th {\n",
       "        vertical-align: top;\n",
       "    }\n",
       "\n",
       "    .dataframe thead th {\n",
       "        text-align: right;\n",
       "    }\n",
       "</style>\n",
       "<table border=\"1\" class=\"dataframe\">\n",
       "  <thead>\n",
       "    <tr style=\"text-align: right;\">\n",
       "      <th></th>\n",
       "      <th>제품명</th>\n",
       "      <th>후기 제목</th>\n",
       "      <th>후기 상세</th>\n",
       "      <th>작성일</th>\n",
       "      <th>조회수</th>\n",
       "    </tr>\n",
       "  </thead>\n",
       "  <tbody>\n",
       "    <tr>\n",
       "      <th>0</th>\n",
       "      <td>[퀘스크렘] 블루치즈 크림치즈</td>\n",
       "      <td>맛있어요</td>\n",
       "      <td>크림치즈는 사랑입니다</td>\n",
       "      <td>2020-10-19</td>\n",
       "      <td>2.0</td>\n",
       "    </tr>\n",
       "    <tr>\n",
       "      <th>1</th>\n",
       "      <td>[퀘스크렘] 블루치즈 크림치즈</td>\n",
       "      <td>만족합니다.</td>\n",
       "      <td>잘 숙성된 치즈의 향입니다.</td>\n",
       "      <td>2020-10-17</td>\n",
       "      <td>2.0</td>\n",
       "    </tr>\n",
       "    <tr>\n",
       "      <th>2</th>\n",
       "      <td>[퀘스크렘] 블루치즈 크림치즈</td>\n",
       "      <td>무난</td>\n",
       "      <td>블루치즈 잘 못먹는 분들도 드실 수 있을 것 같아요</td>\n",
       "      <td>2020-10-15</td>\n",
       "      <td>6.0</td>\n",
       "    </tr>\n",
       "    <tr>\n",
       "      <th>3</th>\n",
       "      <td>[퀘스크렘] 블루치즈 크림치즈</td>\n",
       "      <td>짱짱</td>\n",
       "      <td>재구매 의사 백프로입니다. 달지않고 짜지도 않은 데일리로 즐기기 좋은 깊이감있는 맛...</td>\n",
       "      <td>2020-10-15</td>\n",
       "      <td>5.0</td>\n",
       "    </tr>\n",
       "    <tr>\n",
       "      <th>4</th>\n",
       "      <td>[퀘스크렘] 블루치즈 크림치즈</td>\n",
       "      <td>베이글에</td>\n",
       "      <td>발라 먹어보려구요 ㅎㅎ</td>\n",
       "      <td>2020-10-15</td>\n",
       "      <td>17.0</td>\n",
       "    </tr>\n",
       "    <tr>\n",
       "      <th>...</th>\n",
       "      <td>...</td>\n",
       "      <td>...</td>\n",
       "      <td>...</td>\n",
       "      <td>...</td>\n",
       "      <td>...</td>\n",
       "    </tr>\n",
       "    <tr>\n",
       "      <th>140</th>\n",
       "      <td>[포인트 레이스] 오리지널 블루</td>\n",
       "      <td>좋아요</td>\n",
       "      <td>아빠가 항상 두고 드시는 블루치즈! 컬리에서 파는 프랑스,미국 블루치즈 둘다 보내드...</td>\n",
       "      <td>2020-08-23</td>\n",
       "      <td>10.0</td>\n",
       "    </tr>\n",
       "    <tr>\n",
       "      <th>141</th>\n",
       "      <td>[포인트 레이스] 오리지널 블루</td>\n",
       "      <td>블루</td>\n",
       "      <td>오리지널 블루치즈 쪼아요</td>\n",
       "      <td>2020-08-04</td>\n",
       "      <td>18.0</td>\n",
       "    </tr>\n",
       "    <tr>\n",
       "      <th>142</th>\n",
       "      <td>[포인트 레이스] 오리지널 블루</td>\n",
       "      <td>입이 즐거운</td>\n",
       "      <td>블루치즈 진하고 풍미가 있어 맛있게 잘먹었어요~!</td>\n",
       "      <td>2020-08-04</td>\n",
       "      <td>42.0</td>\n",
       "    </tr>\n",
       "    <tr>\n",
       "      <th>143</th>\n",
       "      <td>[포인트 레이스] 오리지널 블루</td>\n",
       "      <td>샐러드에 빵에</td>\n",
       "      <td>포인트로 조금씩 얹어 먹어요</td>\n",
       "      <td>2020-08-02</td>\n",
       "      <td>41.0</td>\n",
       "    </tr>\n",
       "    <tr>\n",
       "      <th>144</th>\n",
       "      <td>[포인트 레이스] 오리지널 블루</td>\n",
       "      <td>꼬릿</td>\n",
       "      <td>꼬잇한 향에 익숙치 않으시다면 비추지만 찐한 레드와인에는 강추입니다</td>\n",
       "      <td>2020-07-30</td>\n",
       "      <td>30.0</td>\n",
       "    </tr>\n",
       "  </tbody>\n",
       "</table>\n",
       "<p>139 rows × 5 columns</p>\n",
       "</div>"
      ],
      "text/plain": [
       "                   제품명    후기 제목  \\\n",
       "0     [퀘스크렘] 블루치즈 크림치즈     맛있어요   \n",
       "1     [퀘스크렘] 블루치즈 크림치즈   만족합니다.   \n",
       "2     [퀘스크렘] 블루치즈 크림치즈       무난   \n",
       "3     [퀘스크렘] 블루치즈 크림치즈       짱짱   \n",
       "4     [퀘스크렘] 블루치즈 크림치즈     베이글에   \n",
       "..                 ...      ...   \n",
       "140  [포인트 레이스] 오리지널 블루      좋아요   \n",
       "141  [포인트 레이스] 오리지널 블루       블루   \n",
       "142  [포인트 레이스] 오리지널 블루   입이 즐거운   \n",
       "143  [포인트 레이스] 오리지널 블루  샐러드에 빵에   \n",
       "144  [포인트 레이스] 오리지널 블루      꼬릿    \n",
       "\n",
       "                                                 후기 상세         작성일   조회수  \n",
       "0                                          크림치즈는 사랑입니다  2020-10-19   2.0  \n",
       "1                                      잘 숙성된 치즈의 향입니다.  2020-10-17   2.0  \n",
       "2                         블루치즈 잘 못먹는 분들도 드실 수 있을 것 같아요  2020-10-15   6.0  \n",
       "3    재구매 의사 백프로입니다. 달지않고 짜지도 않은 데일리로 즐기기 좋은 깊이감있는 맛...  2020-10-15   5.0  \n",
       "4                                         발라 먹어보려구요 ㅎㅎ  2020-10-15  17.0  \n",
       "..                                                 ...         ...   ...  \n",
       "140  아빠가 항상 두고 드시는 블루치즈! 컬리에서 파는 프랑스,미국 블루치즈 둘다 보내드...  2020-08-23  10.0  \n",
       "141                                      오리지널 블루치즈 쪼아요  2020-08-04  18.0  \n",
       "142                        블루치즈 진하고 풍미가 있어 맛있게 잘먹었어요~!  2020-08-04  42.0  \n",
       "143                                    포인트로 조금씩 얹어 먹어요  2020-08-02  41.0  \n",
       "144              꼬잇한 향에 익숙치 않으시다면 비추지만 찐한 레드와인에는 강추입니다  2020-07-30  30.0  \n",
       "\n",
       "[139 rows x 5 columns]"
      ]
     },
     "execution_count": 182,
     "metadata": {},
     "output_type": "execute_result"
    }
   ],
   "source": [
    "# 번호 컬럼 제거 후 df 조회\n",
    "feats"
   ]
  },
  {
   "cell_type": "code",
   "execution_count": 186,
   "metadata": {},
   "outputs": [],
   "source": [
    "# 번호 컬럼 제거한 df를 csv로 저장하기\n",
    "\n",
    "feats.to_csv('cheese_EMP_2.csv')"
   ]
  },
  {
   "cell_type": "code",
   "execution_count": 187,
   "metadata": {},
   "outputs": [],
   "source": [
    "# csv 파일 구분자 쉼표(,)로 되있던 것 세미콜론(;)으로 바꾸기\n",
    "with open('cheese_EMP_2.csv', 'r', encoding='utf-8') as f_in, open(\"cheese_EMP_2_convert.csv\", 'w') as f_out:\n",
    "    for line in f_in:\n",
    "        line = line.split(\",\")\n",
    "        line = \";\".join(line)\n",
    "        f_out.write(line)"
   ]
  },
  {
   "cell_type": "code",
   "execution_count": null,
   "metadata": {},
   "outputs": [],
   "source": [
    "========================================== 아래로는 예전에 작성했던 코드 =========================================="
   ]
  },
  {
   "cell_type": "code",
   "execution_count": 61,
   "metadata": {},
   "outputs": [
    {
     "name": "stdout",
     "output_type": "stream",
     "text": [
      "Requirement already satisfied: pymysql in /home/bitai/anaconda3/lib/python3.7/site-packages (0.9.3)\n",
      "Note: you may need to restart the kernel to use updated packages.\n"
     ]
    }
   ],
   "source": [
    "pip install pymysql"
   ]
  },
  {
   "cell_type": "code",
   "execution_count": 64,
   "metadata": {},
   "outputs": [
    {
     "ename": "SyntaxError",
     "evalue": "invalid syntax (<ipython-input-64-22b3bee365f7>, line 3)",
     "output_type": "error",
     "traceback": [
      "\u001b[0;36m  File \u001b[0;32m\"<ipython-input-64-22b3bee365f7>\"\u001b[0;36m, line \u001b[0;32m3\u001b[0m\n\u001b[0;31m    CREATE TABLE video_crawl_db(\u001b[0m\n\u001b[0m               ^\u001b[0m\n\u001b[0;31mSyntaxError\u001b[0m\u001b[0;31m:\u001b[0m invalid syntax\n"
     ]
    }
   ],
   "source": [
    "# mysql로 DB 만들기\n",
    "# video_crawl_db의 테이블\n",
    "\n",
    "CREATE TABLE video_crawl_table(\n",
    "    `youtube_no` INT NOT NULL AUTO_INCREMENT, # PK\n",
    "    `youtuber_name` VARCHAR(80),\n",
    "    `youtube_title` VARCHAR(100),\n",
    "    `youtube_play_time` VARCHAR(30),\n",
    "    `subscribe_num` VARCHAR(100),\n",
    "    `views_num` VARCHAR(100),\n",
    "    `upload_time` VARCHAR(80),\n",
    "    `crawling_time` VARCHAR(80),\n",
    "    `youtube_link` VARCHAR(100),\n",
    "    PRIMARY KEY(youtube_no)\n",
    ") CHARSET = utf8;"
   ]
  },
  {
   "cell_type": "code",
   "execution_count": null,
   "metadata": {},
   "outputs": [],
   "source": [
    "# 크롤링 영문 단어 입력시 오타 주의"
   ]
  },
  {
   "cell_type": "code",
   "execution_count": null,
   "metadata": {},
   "outputs": [],
   "source": [
    "========================================== bye bye =========================================="
   ]
  },
  {
   "cell_type": "code",
   "execution_count": 22,
   "metadata": {},
   "outputs": [],
   "source": [
    "# not enough arguments for format string 오류로\n",
    "# 고통받다가 성공한 mysql insert 코드\n",
    "\n",
    "import pymysql\n",
    "\n",
    "connect = pymysql.connect(host='localhost', user='bitai', password='456123', db='testdb', charset='utf8mb4')\n",
    "cursor = connect.cursor()\n",
    "\n",
    "for r in youtube_video_list:\n",
    "    youtuber_name = str(r[0])\n",
    "    youtube_title = str(r[1])\n",
    "    youtube_play_time = str(r[2])\n",
    "    subscribe_num = str(r[3])\n",
    "    views_num = str(r[4])\n",
    "    upload_time = str(r[5])\n",
    "    crawling_time = str(r[6])\n",
    "    youtube_link = str(r[7])\n",
    "    \n",
    "    sql = \"\"\"insert into video_crawl_table\n",
    "    (\n",
    "    \n",
    "    youtuber_name, \n",
    "    youtube_title, \n",
    "    youtube_play_time, \n",
    "    subscribe_num, \n",
    "    views_num, \n",
    "    upload_time, \n",
    "    crawling_time, \n",
    "    youtube_link\n",
    "    \n",
    "    ) \n",
    "    \n",
    "    values ('%s', '%s', '%s', '%s', '%s', '%s', '%s', '%s')\n",
    "    \"\"\" % (youtuber_name, youtube_title, youtube_play_time, subscribe_num, views_num, upload_time, crawling_time, youtube_link)\n",
    "    \n",
    "    cursor.execute(sql)\n",
    "    connect.commit()\n",
    "    \n",
    "connect.close()"
   ]
  },
  {
   "cell_type": "code",
   "execution_count": 110,
   "metadata": {},
   "outputs": [],
   "source": []
  },
  {
   "cell_type": "code",
   "execution_count": null,
   "metadata": {},
   "outputs": [],
   "source": []
  }
 ],
 "metadata": {
  "kernelspec": {
   "display_name": "Python 3",
   "language": "python",
   "name": "python3"
  },
  "language_info": {
   "codemirror_mode": {
    "name": "ipython",
    "version": 3
   },
   "file_extension": ".py",
   "mimetype": "text/x-python",
   "name": "python",
   "nbconvert_exporter": "python",
   "pygments_lexer": "ipython3",
   "version": "3.7.6"
  }
 },
 "nbformat": 4,
 "nbformat_minor": 4
}
